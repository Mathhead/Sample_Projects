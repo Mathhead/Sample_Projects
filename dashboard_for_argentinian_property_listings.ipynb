{
 "cells": [
  {
   "cell_type": "markdown",
   "metadata": {},
   "source": [
    "# Dashboard for the Argentinian Properties\n",
    "In this project, we revisit the [project on Argentinian Property listings](https://github.com/Mathhead/Sample_Projects/blob/master/argentinian_property_listings.ipynb) and build a simple dashboard to visualize the data."
   ]
  },
  {
   "cell_type": "code",
   "execution_count": 1,
   "metadata": {},
   "outputs": [
    {
     "name": "stdout",
     "output_type": "stream",
     "text": [
      "1.16.2\n"
     ]
    }
   ],
   "source": [
    "import numpy as np\n",
    "\n",
    "np.random.seed( 1234567890 )\n",
    "\n",
    "print( np.__version__ )"
   ]
  },
  {
   "cell_type": "code",
   "execution_count": 2,
   "metadata": {},
   "outputs": [
    {
     "name": "stdout",
     "output_type": "stream",
     "text": [
      "0.24.2\n"
     ]
    }
   ],
   "source": [
    "import pandas as pd\n",
    "\n",
    "print( pd.__version__ )"
   ]
  },
  {
   "cell_type": "code",
   "execution_count": 3,
   "metadata": {},
   "outputs": [
    {
     "data": {
      "text/html": [
       "<div>\n",
       "<style scoped>\n",
       "    .dataframe tbody tr th:only-of-type {\n",
       "        vertical-align: middle;\n",
       "    }\n",
       "\n",
       "    .dataframe tbody tr th {\n",
       "        vertical-align: top;\n",
       "    }\n",
       "\n",
       "    .dataframe thead th {\n",
       "        text-align: right;\n",
       "    }\n",
       "</style>\n",
       "<table border=\"1\" class=\"dataframe\">\n",
       "  <thead>\n",
       "    <tr style=\"text-align: right;\">\n",
       "      <th></th>\n",
       "      <th>id</th>\n",
       "      <th>ad_type</th>\n",
       "      <th>start_date</th>\n",
       "      <th>end_date</th>\n",
       "      <th>created_on</th>\n",
       "      <th>lat</th>\n",
       "      <th>lon</th>\n",
       "      <th>l1</th>\n",
       "      <th>l2</th>\n",
       "      <th>l3</th>\n",
       "      <th>...</th>\n",
       "      <th>bathrooms</th>\n",
       "      <th>surface_total</th>\n",
       "      <th>surface_covered</th>\n",
       "      <th>price</th>\n",
       "      <th>currency</th>\n",
       "      <th>price_period</th>\n",
       "      <th>title</th>\n",
       "      <th>description</th>\n",
       "      <th>property_type</th>\n",
       "      <th>operation_type</th>\n",
       "    </tr>\n",
       "  </thead>\n",
       "  <tbody>\n",
       "    <tr>\n",
       "      <th>0</th>\n",
       "      <td>7LoZFkSIPOTox0r32ck42Q==</td>\n",
       "      <td>Propiedad</td>\n",
       "      <td>2019-09-15</td>\n",
       "      <td>2019-10-26</td>\n",
       "      <td>2019-09-15</td>\n",
       "      <td>-26.815439</td>\n",
       "      <td>-65.312393</td>\n",
       "      <td>Argentina</td>\n",
       "      <td>Tucumán</td>\n",
       "      <td>Yerba Buena</td>\n",
       "      <td>...</td>\n",
       "      <td>NaN</td>\n",
       "      <td>NaN</td>\n",
       "      <td>NaN</td>\n",
       "      <td>NaN</td>\n",
       "      <td>NaN</td>\n",
       "      <td>Mensual</td>\n",
       "      <td>Terreno - Yerba Buena</td>\n",
       "      <td>Accesos pavimentados.&lt;br&gt;Red subterránea de ag...</td>\n",
       "      <td>Lote</td>\n",
       "      <td>Venta</td>\n",
       "    </tr>\n",
       "    <tr>\n",
       "      <th>1</th>\n",
       "      <td>QsZD4OxZInNd5po5LQDRmg==</td>\n",
       "      <td>Propiedad</td>\n",
       "      <td>2019-09-15</td>\n",
       "      <td>9999-12-31</td>\n",
       "      <td>2019-09-15</td>\n",
       "      <td>-26.839469</td>\n",
       "      <td>-65.212790</td>\n",
       "      <td>Argentina</td>\n",
       "      <td>Tucumán</td>\n",
       "      <td>NaN</td>\n",
       "      <td>...</td>\n",
       "      <td>1.0</td>\n",
       "      <td>55.0</td>\n",
       "      <td>41.0</td>\n",
       "      <td>NaN</td>\n",
       "      <td>NaN</td>\n",
       "      <td>Mensual</td>\n",
       "      <td>Departamento - Capital</td>\n",
       "      <td>Detalles constructivos:&lt;br&gt;&lt;br&gt;Pisos de porcel...</td>\n",
       "      <td>Departamento</td>\n",
       "      <td>Venta</td>\n",
       "    </tr>\n",
       "    <tr>\n",
       "      <th>2</th>\n",
       "      <td>qDtysoUgbnHLp0W9We+8fg==</td>\n",
       "      <td>Propiedad</td>\n",
       "      <td>2019-09-15</td>\n",
       "      <td>2019-09-25</td>\n",
       "      <td>2019-09-15</td>\n",
       "      <td>-31.424820</td>\n",
       "      <td>-64.181225</td>\n",
       "      <td>Argentina</td>\n",
       "      <td>Córdoba</td>\n",
       "      <td>Córdoba</td>\n",
       "      <td>...</td>\n",
       "      <td>1.0</td>\n",
       "      <td>45.0</td>\n",
       "      <td>45.0</td>\n",
       "      <td>NaN</td>\n",
       "      <td>NaN</td>\n",
       "      <td>Mensual</td>\n",
       "      <td>1 DORMITORIO | San Lorenzo al 400</td>\n",
       "      <td>Alquiler temporario de Departamento 1 DORMITOR...</td>\n",
       "      <td>Departamento</td>\n",
       "      <td>Alquiler temporal</td>\n",
       "    </tr>\n",
       "    <tr>\n",
       "      <th>3</th>\n",
       "      <td>olj51zV0HFurmaZ78U0ssg==</td>\n",
       "      <td>Propiedad</td>\n",
       "      <td>2019-09-15</td>\n",
       "      <td>2019-09-25</td>\n",
       "      <td>2019-09-15</td>\n",
       "      <td>-31.421242</td>\n",
       "      <td>-64.190798</td>\n",
       "      <td>Argentina</td>\n",
       "      <td>Córdoba</td>\n",
       "      <td>Córdoba</td>\n",
       "      <td>...</td>\n",
       "      <td>1.0</td>\n",
       "      <td>48.0</td>\n",
       "      <td>48.0</td>\n",
       "      <td>NaN</td>\n",
       "      <td>NaN</td>\n",
       "      <td>Mensual</td>\n",
       "      <td>1 DORMITORIO | M. T. de Alvear al 500</td>\n",
       "      <td>Alquiler temporario de Departamento 1 DORMITOR...</td>\n",
       "      <td>Departamento</td>\n",
       "      <td>Alquiler temporal</td>\n",
       "    </tr>\n",
       "    <tr>\n",
       "      <th>4</th>\n",
       "      <td>OcS1SAA5oAzjZ3Mzg3XHyg==</td>\n",
       "      <td>Propiedad</td>\n",
       "      <td>2019-09-15</td>\n",
       "      <td>2019-09-25</td>\n",
       "      <td>2019-09-15</td>\n",
       "      <td>-31.426064</td>\n",
       "      <td>-64.180042</td>\n",
       "      <td>Argentina</td>\n",
       "      <td>Córdoba</td>\n",
       "      <td>Córdoba</td>\n",
       "      <td>...</td>\n",
       "      <td>1.0</td>\n",
       "      <td>45.0</td>\n",
       "      <td>45.0</td>\n",
       "      <td>NaN</td>\n",
       "      <td>NaN</td>\n",
       "      <td>Mensual</td>\n",
       "      <td>1 DORMITORIO | Av. Poeta Lugones  al 200</td>\n",
       "      <td>Alquiler temporario de Departamento 1 DORMITOR...</td>\n",
       "      <td>Departamento</td>\n",
       "      <td>Alquiler temporal</td>\n",
       "    </tr>\n",
       "  </tbody>\n",
       "</table>\n",
       "<p>5 rows × 25 columns</p>\n",
       "</div>"
      ],
      "text/plain": [
       "                         id    ad_type  start_date    end_date  created_on  \\\n",
       "0  7LoZFkSIPOTox0r32ck42Q==  Propiedad  2019-09-15  2019-10-26  2019-09-15   \n",
       "1  QsZD4OxZInNd5po5LQDRmg==  Propiedad  2019-09-15  9999-12-31  2019-09-15   \n",
       "2  qDtysoUgbnHLp0W9We+8fg==  Propiedad  2019-09-15  2019-09-25  2019-09-15   \n",
       "3  olj51zV0HFurmaZ78U0ssg==  Propiedad  2019-09-15  2019-09-25  2019-09-15   \n",
       "4  OcS1SAA5oAzjZ3Mzg3XHyg==  Propiedad  2019-09-15  2019-09-25  2019-09-15   \n",
       "\n",
       "         lat        lon         l1       l2           l3  ... bathrooms  \\\n",
       "0 -26.815439 -65.312393  Argentina  Tucumán  Yerba Buena  ...       NaN   \n",
       "1 -26.839469 -65.212790  Argentina  Tucumán          NaN  ...       1.0   \n",
       "2 -31.424820 -64.181225  Argentina  Córdoba      Córdoba  ...       1.0   \n",
       "3 -31.421242 -64.190798  Argentina  Córdoba      Córdoba  ...       1.0   \n",
       "4 -31.426064 -64.180042  Argentina  Córdoba      Córdoba  ...       1.0   \n",
       "\n",
       "  surface_total  surface_covered  price  currency  price_period  \\\n",
       "0           NaN              NaN    NaN       NaN       Mensual   \n",
       "1          55.0             41.0    NaN       NaN       Mensual   \n",
       "2          45.0             45.0    NaN       NaN       Mensual   \n",
       "3          48.0             48.0    NaN       NaN       Mensual   \n",
       "4          45.0             45.0    NaN       NaN       Mensual   \n",
       "\n",
       "                                      title  \\\n",
       "0                     Terreno - Yerba Buena   \n",
       "1                    Departamento - Capital   \n",
       "2         1 DORMITORIO | San Lorenzo al 400   \n",
       "3     1 DORMITORIO | M. T. de Alvear al 500   \n",
       "4  1 DORMITORIO | Av. Poeta Lugones  al 200   \n",
       "\n",
       "                                         description  property_type  \\\n",
       "0  Accesos pavimentados.<br>Red subterránea de ag...           Lote   \n",
       "1  Detalles constructivos:<br><br>Pisos de porcel...   Departamento   \n",
       "2  Alquiler temporario de Departamento 1 DORMITOR...   Departamento   \n",
       "3  Alquiler temporario de Departamento 1 DORMITOR...   Departamento   \n",
       "4  Alquiler temporario de Departamento 1 DORMITOR...   Departamento   \n",
       "\n",
       "      operation_type  \n",
       "0              Venta  \n",
       "1              Venta  \n",
       "2  Alquiler temporal  \n",
       "3  Alquiler temporal  \n",
       "4  Alquiler temporal  \n",
       "\n",
       "[5 rows x 25 columns]"
      ]
     },
     "execution_count": 3,
     "metadata": {},
     "output_type": "execute_result"
    }
   ],
   "source": [
    "property_data = pd.read_csv( \"C:\\\\Users\\\\rhopi\\\\OneDrive\\\\Desktop\\\\kaggle data 1\\\\property listings data set\\\\ar_properties.csv\" )\n",
    "\n",
    "property_data.head()"
   ]
  },
  {
   "cell_type": "markdown",
   "metadata": {},
   "source": [
    "Here, we build only a simple model, that focuses on __lat__, __lon__, __bathrooms__, __surface_total__ to predict __price__.<br>\n",
    "We only consider \"Departamentos\" which are \"Venta\" and which are prized in USD."
   ]
  },
  {
   "cell_type": "code",
   "execution_count": 4,
   "metadata": {},
   "outputs": [],
   "source": [
    "property_data = property_data.dropna( subset = [ \"price\", \"lon\", \"lat\", \"bathrooms\", \"surface_total\" ] )"
   ]
  },
  {
   "cell_type": "code",
   "execution_count": 5,
   "metadata": {},
   "outputs": [],
   "source": [
    "property_data = property_data[ property_data[ \"currency\" ] == \"USD\" ]\n",
    "\n",
    "property_data = property_data[ property_data[ \"property_type\" ] == \"Departamento\" ]\n",
    "\n",
    "property_data = property_data[ property_data[ \"operation_type\" ] == \"Venta\" ]"
   ]
  },
  {
   "cell_type": "markdown",
   "metadata": {},
   "source": [
    "We drop all columns but the aforementioned."
   ]
  },
  {
   "cell_type": "code",
   "execution_count": 6,
   "metadata": {},
   "outputs": [
    {
     "data": {
      "text/html": [
       "<div>\n",
       "<style scoped>\n",
       "    .dataframe tbody tr th:only-of-type {\n",
       "        vertical-align: middle;\n",
       "    }\n",
       "\n",
       "    .dataframe tbody tr th {\n",
       "        vertical-align: top;\n",
       "    }\n",
       "\n",
       "    .dataframe thead th {\n",
       "        text-align: right;\n",
       "    }\n",
       "</style>\n",
       "<table border=\"1\" class=\"dataframe\">\n",
       "  <thead>\n",
       "    <tr style=\"text-align: right;\">\n",
       "      <th></th>\n",
       "      <th>lat</th>\n",
       "      <th>lon</th>\n",
       "      <th>bathrooms</th>\n",
       "      <th>surface_total</th>\n",
       "      <th>price</th>\n",
       "    </tr>\n",
       "  </thead>\n",
       "  <tbody>\n",
       "    <tr>\n",
       "      <th>61</th>\n",
       "      <td>-34.572445</td>\n",
       "      <td>-58.420624</td>\n",
       "      <td>3.0</td>\n",
       "      <td>193.0</td>\n",
       "      <td>935000.0</td>\n",
       "    </tr>\n",
       "    <tr>\n",
       "      <th>63</th>\n",
       "      <td>-34.586423</td>\n",
       "      <td>-58.414190</td>\n",
       "      <td>1.0</td>\n",
       "      <td>32.0</td>\n",
       "      <td>132900.0</td>\n",
       "    </tr>\n",
       "    <tr>\n",
       "      <th>64</th>\n",
       "      <td>-34.584758</td>\n",
       "      <td>-58.413319</td>\n",
       "      <td>1.0</td>\n",
       "      <td>88.0</td>\n",
       "      <td>230000.0</td>\n",
       "    </tr>\n",
       "    <tr>\n",
       "      <th>65</th>\n",
       "      <td>-34.578491</td>\n",
       "      <td>-58.431951</td>\n",
       "      <td>1.0</td>\n",
       "      <td>36.0</td>\n",
       "      <td>108000.0</td>\n",
       "    </tr>\n",
       "    <tr>\n",
       "      <th>68</th>\n",
       "      <td>-34.561679</td>\n",
       "      <td>-58.458689</td>\n",
       "      <td>1.0</td>\n",
       "      <td>80.0</td>\n",
       "      <td>269000.0</td>\n",
       "    </tr>\n",
       "  </tbody>\n",
       "</table>\n",
       "</div>"
      ],
      "text/plain": [
       "          lat        lon  bathrooms  surface_total     price\n",
       "61 -34.572445 -58.420624        3.0          193.0  935000.0\n",
       "63 -34.586423 -58.414190        1.0           32.0  132900.0\n",
       "64 -34.584758 -58.413319        1.0           88.0  230000.0\n",
       "65 -34.578491 -58.431951        1.0           36.0  108000.0\n",
       "68 -34.561679 -58.458689        1.0           80.0  269000.0"
      ]
     },
     "execution_count": 6,
     "metadata": {},
     "output_type": "execute_result"
    }
   ],
   "source": [
    "for column in property_data.columns:\n",
    "    \n",
    "    if column not in [ \"lat\", \"lon\", \"bathrooms\", \"surface_total\", \"price\" ]:\n",
    "        \n",
    "        property_data = property_data.drop( [ column ], axis = 1 )\n",
    "        \n",
    "property_data.head()"
   ]
  },
  {
   "cell_type": "code",
   "execution_count": 7,
   "metadata": {},
   "outputs": [
    {
     "name": "stdout",
     "output_type": "stream",
     "text": [
      "lat              0\n",
      "lon              0\n",
      "bathrooms        0\n",
      "surface_total    0\n",
      "price            0\n",
      "dtype: int64\n"
     ]
    }
   ],
   "source": [
    "print( property_data.isna().sum() )"
   ]
  },
  {
   "cell_type": "markdown",
   "metadata": {},
   "source": [
    "We now use dash to build a web-app to visualize the data."
   ]
  },
  {
   "cell_type": "code",
   "execution_count": 8,
   "metadata": {},
   "outputs": [
    {
     "name": "stdout",
     "output_type": "stream",
     "text": [
      "1.14.0\n"
     ]
    }
   ],
   "source": [
    "import dash\n",
    "import dash_core_components as dcc\n",
    "import dash_html_components as html\n",
    "from dash.dependencies import Input, Output\n",
    "\n",
    "print( dash.__version__ )"
   ]
  },
  {
   "cell_type": "code",
   "execution_count": 9,
   "metadata": {},
   "outputs": [
    {
     "name": "stdout",
     "output_type": "stream",
     "text": [
      "0.3.1\n"
     ]
    }
   ],
   "source": [
    "import jupyter_dash\n",
    "from jupyter_dash import JupyterDash\n",
    "\n",
    "print( jupyter_dash.__version__ )"
   ]
  },
  {
   "cell_type": "code",
   "execution_count": 10,
   "metadata": {},
   "outputs": [
    {
     "name": "stdout",
     "output_type": "stream",
     "text": [
      "4.9.0\n"
     ]
    }
   ],
   "source": [
    "import plotly\n",
    "import plotly.graph_objs as go\n",
    "\n",
    "print( plotly.__version__ )"
   ]
  },
  {
   "cell_type": "code",
   "execution_count": 11,
   "metadata": {},
   "outputs": [],
   "source": [
    "app_scatter = JupyterDash( __name__ )"
   ]
  },
  {
   "cell_type": "code",
   "execution_count": 12,
   "metadata": {},
   "outputs": [],
   "source": [
    "app_scatter.css.append_css( { \"external_url\" : \"https://codepen.io/chriddyp/pen/bWLwgP.css\" } )"
   ]
  },
  {
   "cell_type": "code",
   "execution_count": 13,
   "metadata": {},
   "outputs": [],
   "source": [
    "features = [ \"Latitude\", \"Longitude\", \"Bathrooms\", \"Surface total\", \"Price\" ]\n",
    "\n",
    "dropdown = [ { \"label\" : x, \"value\" : x } for x in features ]"
   ]
  },
  {
   "cell_type": "code",
   "execution_count": 14,
   "metadata": {},
   "outputs": [],
   "source": [
    "dropdown_x_var = dcc.Dropdown( id = \"x-var\", options = dropdown, value = \"Longitude\" )\n",
    "\n",
    "div_x_var = html.Div( children = [ html.H4( \"Variable for x Axis: \" ), dropdown_x_var ], className = \"six columns\" )"
   ]
  },
  {
   "cell_type": "code",
   "execution_count": 15,
   "metadata": {},
   "outputs": [],
   "source": [
    "dropdown_y_var = dcc.Dropdown( id = \"y-var\", options = dropdown, value = \"Latitude\" )\n",
    "\n",
    "div_y_var = html.Div( children = [ html.H4( \"Variable for y Axis: \" ), dropdown_y_var ], className = \"six columns\" )"
   ]
  },
  {
   "cell_type": "code",
   "execution_count": 16,
   "metadata": {},
   "outputs": [],
   "source": [
    "dict_ = { \"Longitude\" : \"lon\", \"Latitude\" : \"lat\", \"Bathrooms\" : \"bathrooms\", \"Surface total\" : \"surface_total\",\n",
    "        \"Price\" : \"price\" }"
   ]
  },
  {
   "cell_type": "code",
   "execution_count": 17,
   "metadata": {},
   "outputs": [],
   "source": [
    "app_scatter.layout = html.Div( children = [ html.H1( \"Scatterplot of Argentinian Property Listings\" ),\n",
    "                                  html.H2( \"Interactive Scatterplot\" ), html.Div( children = [ div_x_var, div_y_var ],\n",
    "                                                                                className = \"row\" ), \n",
    "                                   dcc.Graph( id = \"scatter\" ) ] )"
   ]
  },
  {
   "cell_type": "code",
   "execution_count": 18,
   "metadata": {},
   "outputs": [],
   "source": [
    "@app_scatter.callback( Output( component_id = \"scatter\", component_property = \"figure\" ), \n",
    "             [ Input( component_id = \"x-var\", component_property = \"value\" ), \n",
    "              Input( component_id = \"y-var\", component_property = \"value\" ) ] )\n",
    "\n",
    "def scatter_plot( x_col, y_col ):\n",
    "    \"\"\"\n",
    "        we begin with sampling 2000 data points. If we do not sample, the plotting function may get overwhelmed.\n",
    "    \"\"\"\n",
    "    \n",
    "    data = property_data.sample( n = 2000 )\n",
    "    \n",
    "    trace = go.Scatter( x = data[ dict_[ x_col ] ], y = data[ dict_[ y_col ] ], mode = \"markers\" )\n",
    "    \n",
    "    layout = go.Layout( title = \"Scatterplot\", xaxis = dict( title = x_col ), yaxis = dict( title = y_col ) )\n",
    "    \n",
    "    output_plot = go.Figure( data = [ trace ], layout = layout )\n",
    "    \n",
    "    return output_plot"
   ]
  },
  {
   "cell_type": "code",
   "execution_count": 19,
   "metadata": {},
   "outputs": [
    {
     "name": "stdout",
     "output_type": "stream",
     "text": [
      "Dash is running on http://127.0.0.1:8050/\n",
      "\n",
      " Warning: This is a development server. Do not use app.run_server\n",
      " in production, use a production WSGI server like gunicorn instead.\n",
      "\n"
     ]
    },
    {
     "name": "stderr",
     "output_type": "stream",
     "text": [
      "C:\\Users\\rhopi\\Anaconda3\\lib\\site-packages\\dash\\resources.py:68: UserWarning: You have set your config to `serve_locally=True` but A local version of https://codepen.io/chriddyp/pen/bWLwgP.css is not available.\n",
      "If you added this file with `app.scripts.append_script` or `app.css.append_css`, use `external_scripts` or `external_stylesheets` instead.\n",
      "See https://dash.plot.com/external-resources\n",
      "  ).format(s[\"external_url\"])\n"
     ]
    },
    {
     "data": {
      "text/html": [
       "\n",
       "        <iframe\n",
       "            width=\"100%\"\n",
       "            height=\"650\"\n",
       "            src=\"http://127.0.0.1:8050/\"\n",
       "            frameborder=\"0\"\n",
       "            allowfullscreen\n",
       "        ></iframe>\n",
       "        "
      ],
      "text/plain": [
       "<IPython.lib.display.IFrame at 0x1f5abd5c0f0>"
      ]
     },
     "metadata": {},
     "output_type": "display_data"
    }
   ],
   "source": [
    "app_scatter.run_server( mode = \"inline\" )"
   ]
  }
 ],
 "metadata": {
  "kernelspec": {
   "display_name": "Python 3",
   "language": "python",
   "name": "python3"
  },
  "language_info": {
   "codemirror_mode": {
    "name": "ipython",
    "version": 3
   },
   "file_extension": ".py",
   "mimetype": "text/x-python",
   "name": "python",
   "nbconvert_exporter": "python",
   "pygments_lexer": "ipython3",
   "version": "3.7.3"
  }
 },
 "nbformat": 4,
 "nbformat_minor": 2
}
