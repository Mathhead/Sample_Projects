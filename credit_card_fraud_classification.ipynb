{
 "cells": [
  {
   "cell_type": "markdown",
   "metadata": {},
   "source": [
    "# Credit Card Frau Data Set - Outlier Detection\n",
    "In this project, we take the [Credit Card Fraud Data set](https://www.kaggle.com/mlg-ulb/creditcardfraud) from Kaggle.<br>\n",
    "Our aim is to train a model that is able to differentiate normal credit card transactions from fraudulent transactions."
   ]
  },
  {
   "cell_type": "code",
   "execution_count": 1,
   "metadata": {},
   "outputs": [],
   "source": [
    "import numpy as np\n",
    "\n",
    "np.random.seed( 1234567890 )\n",
    "\n",
    "print( np.__version__ )"
   ]
  },
  {
   "cell_type": "code",
   "execution_count": 2,
   "metadata": {},
   "outputs": [
    {
     "name": "stdout",
     "output_type": "stream",
     "text": [
      "1.13.1\n"
     ]
    }
   ],
   "source": [
    "import tensorflow as tf\n",
    "\n",
    "tf.set_random_seed( 1234567890 )\n",
    "\n",
    "print( tf.__version__ )"
   ]
  },
  {
   "cell_type": "code",
   "execution_count": 3,
   "metadata": {},
   "outputs": [
    {
     "name": "stdout",
     "output_type": "stream",
     "text": [
      "2.2.4\n"
     ]
    },
    {
     "name": "stderr",
     "output_type": "stream",
     "text": [
      "Using TensorFlow backend.\n"
     ]
    }
   ],
   "source": [
    "import keras\n",
    "from keras import models\n",
    "from keras import layers\n",
    "from keras import callbacks\n",
    "\n",
    "\n",
    "\n",
    "print( keras.__version__ )"
   ]
  },
  {
   "cell_type": "code",
   "execution_count": 4,
   "metadata": {},
   "outputs": [
    {
     "name": "stdout",
     "output_type": "stream",
     "text": [
      "0.24.2\n"
     ]
    }
   ],
   "source": [
    "import pandas as pd\n",
    "\n",
    "print( pd.__version__ )"
   ]
  },
  {
   "cell_type": "code",
   "execution_count": 5,
   "metadata": {},
   "outputs": [
    {
     "data": {
      "text/html": [
       "<div>\n",
       "<style scoped>\n",
       "    .dataframe tbody tr th:only-of-type {\n",
       "        vertical-align: middle;\n",
       "    }\n",
       "\n",
       "    .dataframe tbody tr th {\n",
       "        vertical-align: top;\n",
       "    }\n",
       "\n",
       "    .dataframe thead th {\n",
       "        text-align: right;\n",
       "    }\n",
       "</style>\n",
       "<table border=\"1\" class=\"dataframe\">\n",
       "  <thead>\n",
       "    <tr style=\"text-align: right;\">\n",
       "      <th></th>\n",
       "      <th>Time</th>\n",
       "      <th>V1</th>\n",
       "      <th>V2</th>\n",
       "      <th>V3</th>\n",
       "      <th>V4</th>\n",
       "      <th>V5</th>\n",
       "      <th>V6</th>\n",
       "      <th>V7</th>\n",
       "      <th>V8</th>\n",
       "      <th>V9</th>\n",
       "      <th>...</th>\n",
       "      <th>V21</th>\n",
       "      <th>V22</th>\n",
       "      <th>V23</th>\n",
       "      <th>V24</th>\n",
       "      <th>V25</th>\n",
       "      <th>V26</th>\n",
       "      <th>V27</th>\n",
       "      <th>V28</th>\n",
       "      <th>Amount</th>\n",
       "      <th>Class</th>\n",
       "    </tr>\n",
       "  </thead>\n",
       "  <tbody>\n",
       "    <tr>\n",
       "      <th>0</th>\n",
       "      <td>0.0</td>\n",
       "      <td>-1.359807</td>\n",
       "      <td>-0.072781</td>\n",
       "      <td>2.536347</td>\n",
       "      <td>1.378155</td>\n",
       "      <td>-0.338321</td>\n",
       "      <td>0.462388</td>\n",
       "      <td>0.239599</td>\n",
       "      <td>0.098698</td>\n",
       "      <td>0.363787</td>\n",
       "      <td>...</td>\n",
       "      <td>-0.018307</td>\n",
       "      <td>0.277838</td>\n",
       "      <td>-0.110474</td>\n",
       "      <td>0.066928</td>\n",
       "      <td>0.128539</td>\n",
       "      <td>-0.189115</td>\n",
       "      <td>0.133558</td>\n",
       "      <td>-0.021053</td>\n",
       "      <td>149.62</td>\n",
       "      <td>0</td>\n",
       "    </tr>\n",
       "    <tr>\n",
       "      <th>1</th>\n",
       "      <td>0.0</td>\n",
       "      <td>1.191857</td>\n",
       "      <td>0.266151</td>\n",
       "      <td>0.166480</td>\n",
       "      <td>0.448154</td>\n",
       "      <td>0.060018</td>\n",
       "      <td>-0.082361</td>\n",
       "      <td>-0.078803</td>\n",
       "      <td>0.085102</td>\n",
       "      <td>-0.255425</td>\n",
       "      <td>...</td>\n",
       "      <td>-0.225775</td>\n",
       "      <td>-0.638672</td>\n",
       "      <td>0.101288</td>\n",
       "      <td>-0.339846</td>\n",
       "      <td>0.167170</td>\n",
       "      <td>0.125895</td>\n",
       "      <td>-0.008983</td>\n",
       "      <td>0.014724</td>\n",
       "      <td>2.69</td>\n",
       "      <td>0</td>\n",
       "    </tr>\n",
       "    <tr>\n",
       "      <th>2</th>\n",
       "      <td>1.0</td>\n",
       "      <td>-1.358354</td>\n",
       "      <td>-1.340163</td>\n",
       "      <td>1.773209</td>\n",
       "      <td>0.379780</td>\n",
       "      <td>-0.503198</td>\n",
       "      <td>1.800499</td>\n",
       "      <td>0.791461</td>\n",
       "      <td>0.247676</td>\n",
       "      <td>-1.514654</td>\n",
       "      <td>...</td>\n",
       "      <td>0.247998</td>\n",
       "      <td>0.771679</td>\n",
       "      <td>0.909412</td>\n",
       "      <td>-0.689281</td>\n",
       "      <td>-0.327642</td>\n",
       "      <td>-0.139097</td>\n",
       "      <td>-0.055353</td>\n",
       "      <td>-0.059752</td>\n",
       "      <td>378.66</td>\n",
       "      <td>0</td>\n",
       "    </tr>\n",
       "    <tr>\n",
       "      <th>3</th>\n",
       "      <td>1.0</td>\n",
       "      <td>-0.966272</td>\n",
       "      <td>-0.185226</td>\n",
       "      <td>1.792993</td>\n",
       "      <td>-0.863291</td>\n",
       "      <td>-0.010309</td>\n",
       "      <td>1.247203</td>\n",
       "      <td>0.237609</td>\n",
       "      <td>0.377436</td>\n",
       "      <td>-1.387024</td>\n",
       "      <td>...</td>\n",
       "      <td>-0.108300</td>\n",
       "      <td>0.005274</td>\n",
       "      <td>-0.190321</td>\n",
       "      <td>-1.175575</td>\n",
       "      <td>0.647376</td>\n",
       "      <td>-0.221929</td>\n",
       "      <td>0.062723</td>\n",
       "      <td>0.061458</td>\n",
       "      <td>123.50</td>\n",
       "      <td>0</td>\n",
       "    </tr>\n",
       "    <tr>\n",
       "      <th>4</th>\n",
       "      <td>2.0</td>\n",
       "      <td>-1.158233</td>\n",
       "      <td>0.877737</td>\n",
       "      <td>1.548718</td>\n",
       "      <td>0.403034</td>\n",
       "      <td>-0.407193</td>\n",
       "      <td>0.095921</td>\n",
       "      <td>0.592941</td>\n",
       "      <td>-0.270533</td>\n",
       "      <td>0.817739</td>\n",
       "      <td>...</td>\n",
       "      <td>-0.009431</td>\n",
       "      <td>0.798278</td>\n",
       "      <td>-0.137458</td>\n",
       "      <td>0.141267</td>\n",
       "      <td>-0.206010</td>\n",
       "      <td>0.502292</td>\n",
       "      <td>0.219422</td>\n",
       "      <td>0.215153</td>\n",
       "      <td>69.99</td>\n",
       "      <td>0</td>\n",
       "    </tr>\n",
       "  </tbody>\n",
       "</table>\n",
       "<p>5 rows × 31 columns</p>\n",
       "</div>"
      ],
      "text/plain": [
       "   Time        V1        V2        V3        V4        V5        V6        V7  \\\n",
       "0   0.0 -1.359807 -0.072781  2.536347  1.378155 -0.338321  0.462388  0.239599   \n",
       "1   0.0  1.191857  0.266151  0.166480  0.448154  0.060018 -0.082361 -0.078803   \n",
       "2   1.0 -1.358354 -1.340163  1.773209  0.379780 -0.503198  1.800499  0.791461   \n",
       "3   1.0 -0.966272 -0.185226  1.792993 -0.863291 -0.010309  1.247203  0.237609   \n",
       "4   2.0 -1.158233  0.877737  1.548718  0.403034 -0.407193  0.095921  0.592941   \n",
       "\n",
       "         V8        V9  ...       V21       V22       V23       V24       V25  \\\n",
       "0  0.098698  0.363787  ... -0.018307  0.277838 -0.110474  0.066928  0.128539   \n",
       "1  0.085102 -0.255425  ... -0.225775 -0.638672  0.101288 -0.339846  0.167170   \n",
       "2  0.247676 -1.514654  ...  0.247998  0.771679  0.909412 -0.689281 -0.327642   \n",
       "3  0.377436 -1.387024  ... -0.108300  0.005274 -0.190321 -1.175575  0.647376   \n",
       "4 -0.270533  0.817739  ... -0.009431  0.798278 -0.137458  0.141267 -0.206010   \n",
       "\n",
       "        V26       V27       V28  Amount  Class  \n",
       "0 -0.189115  0.133558 -0.021053  149.62      0  \n",
       "1  0.125895 -0.008983  0.014724    2.69      0  \n",
       "2 -0.139097 -0.055353 -0.059752  378.66      0  \n",
       "3 -0.221929  0.062723  0.061458  123.50      0  \n",
       "4  0.502292  0.219422  0.215153   69.99      0  \n",
       "\n",
       "[5 rows x 31 columns]"
      ]
     },
     "execution_count": 5,
     "metadata": {},
     "output_type": "execute_result"
    }
   ],
   "source": [
    "fraud_data_df = pd.read_csv( \"C:\\\\Users\\\\rhopi\\\\OneDrive\\\\Desktop\\\\kaggle data 1\\\\credit card frau data set\\\\creditcard.csv\" )\n",
    "\n",
    "fraud_data_df.head()"
   ]
  },
  {
   "cell_type": "code",
   "execution_count": 6,
   "metadata": {},
   "outputs": [
    {
     "name": "stdout",
     "output_type": "stream",
     "text": [
      "(284807, 31)\n"
     ]
    }
   ],
   "source": [
    "print( fraud_data_df.shape )"
   ]
  },
  {
   "cell_type": "markdown",
   "metadata": {},
   "source": [
    "Ok, we got a little more than 280k data points, and each data point has $31$ dimensions, where the dimension __Class__ tells us, whether the case is fraudulent ($1$) or not ($0$).<br>\n",
    "Let's find out, how many fraudulent cases there are."
   ]
  },
  {
   "cell_type": "code",
   "execution_count": 7,
   "metadata": {},
   "outputs": [
    {
     "name": "stdout",
     "output_type": "stream",
     "text": [
      "492\n"
     ]
    }
   ],
   "source": [
    "print( fraud_data_df.loc[ fraud_data_df[ \"Class\" ] == 1 ].shape[ 0 ] )"
   ]
  },
  {
   "cell_type": "markdown",
   "metadata": {},
   "source": [
    "This is good news. Only $492$ cases of fraudulent data. Seems like most people are no criminals.<br>\n",
    "Our strategy will now be the following: we will select the first $10000$ data points of normal data. We will normalize these data and train an __autoencoder__ on these data. Since the fraudulent data do not look like the normal data, the __encoder__ will map these data far away from the normal data. We then can train a simple model like a random forest to classify the data.<br>\n",
    "We start with selecting the first $10000$ data points and the preparation of the training and test data sets.<br>\n",
    "We will ignore the __Time__, since fraud has nothing to do with time."
   ]
  },
  {
   "cell_type": "code",
   "execution_count": 8,
   "metadata": {},
   "outputs": [],
   "source": [
    "auto_train = np.zeros( shape = [ 10000, 29 ] )\n",
    "\n",
    "mu = np.zeros( [ 29 ] )\n",
    "\n",
    "sigma = np.zeros( [ 29 ] )\n",
    "\n",
    "dim_min = np.zeros( [ 29 ] )\n",
    "\n",
    "dim_max = np.zeros( [ 29 ] )"
   ]
  },
  {
   "cell_type": "code",
   "execution_count": 9,
   "metadata": {},
   "outputs": [],
   "source": [
    "auto_train = fraud_data_df.loc[ fraud_data_df[ \"Class\" ] == 0  ].iloc[ 0 : 10000 ].drop( [ \"Time\", \"Class\" ], axis = 1 ).to_numpy()"
   ]
  },
  {
   "cell_type": "code",
   "execution_count": 10,
   "metadata": {},
   "outputs": [],
   "source": [
    "for i in range( 29 ):\n",
    "    \n",
    "    mu[ i ] = np.mean( auto_train[ :, i] )\n",
    "    \n",
    "    sigma[ i ] = np.std( auto_train[ :, i] )\n",
    "    \n",
    "    dim_min[ i ] = np.min( ( auto_train[ :, i ] - mu[ i ] ) / sigma[ i ] )\n",
    "    \n",
    "    dim_max[ i ] = np.max( ( auto_train[ :, i ] - mu[ i ] ) / sigma[ i ] )"
   ]
  },
  {
   "cell_type": "code",
   "execution_count": 11,
   "metadata": {},
   "outputs": [],
   "source": [
    "def transformer( data, mu, sigma, dim_min, dim_max ):\n",
    "    \"\"\"\n",
    "        transformer takes an array and normalizes each column using the mean from mu and the standard deviation\n",
    "        from sigma. Then, the data from dim_min and dim_max are used to clip the data.\n",
    "    \"\"\"\n",
    "    \n",
    "    for i in range( 29 ):\n",
    "        \n",
    "        data[ :, i ] = ( data[ :, i ] - mu[ i ] ) / sigma[ i ]\n",
    "        \n",
    "        data[ :, i ] = np.clip( data[ :, i ], a_min = dim_min[ i ], a_max = dim_max[ i ] )\n",
    "        \n",
    "    return data"
   ]
  },
  {
   "cell_type": "code",
   "execution_count": 12,
   "metadata": {},
   "outputs": [],
   "source": [
    "auto_train = transformer( auto_train, mu, sigma, dim_min, dim_max )"
   ]
  },
  {
   "cell_type": "markdown",
   "metadata": {},
   "source": [
    "Now, that we have built the __transformer__, we prepare the training and the test data for the random forest."
   ]
  },
  {
   "cell_type": "code",
   "execution_count": 13,
   "metadata": {},
   "outputs": [],
   "source": [
    "forest_data_ok = fraud_data_df[ fraud_data_df[ \"Class\" ] == 0 ].iloc[ 10000 : ].drop( [ \"Time\", \"Class\" ], axis = 1 ).to_numpy()\n",
    "\n",
    "forest_data_not_ok = fraud_data_df[ fraud_data_df[ \"Class\" ] == 1 ].drop( [ \"Time\", \"Class\" ], axis = 1 ).to_numpy()"
   ]
  },
  {
   "cell_type": "code",
   "execution_count": 14,
   "metadata": {},
   "outputs": [],
   "source": [
    "forest_data_ok = transformer( forest_data_ok, mu, sigma, dim_min, dim_max )\n",
    "\n",
    "forest_data_not_ok = transformer( forest_data_not_ok, mu, sigma, dim_min, dim_max )"
   ]
  },
  {
   "cell_type": "markdown",
   "metadata": {},
   "source": [
    "Now, we have performed the essential data transformations. We now split the data into training and test data using a $70-30$ split."
   ]
  },
  {
   "cell_type": "code",
   "execution_count": 15,
   "metadata": {},
   "outputs": [
    {
     "name": "stdout",
     "output_type": "stream",
     "text": [
      "192020.0 82295.0\n"
     ]
    }
   ],
   "source": [
    "print( np.round( 0.7 * np.shape( forest_data_ok )[ 0 ] ), np.shape( forest_data_ok )[ 0 ] - np.round( 0.7 * np.shape( forest_data_ok )[ 0 ] ) )"
   ]
  },
  {
   "cell_type": "code",
   "execution_count": 16,
   "metadata": {},
   "outputs": [
    {
     "name": "stdout",
     "output_type": "stream",
     "text": [
      "344.0 148.0\n"
     ]
    }
   ],
   "source": [
    "print( np.round( 0.7 * np.shape( forest_data_not_ok )[ 0 ] ), np.shape( forest_data_not_ok )[ 0 ] - np.round( 0.7 * np.shape( forest_data_not_ok )[ 0 ] ) )"
   ]
  },
  {
   "cell_type": "code",
   "execution_count": 17,
   "metadata": {},
   "outputs": [],
   "source": [
    "forest_train_ok_x = np.zeros( shape = [ 192020, 29 ] )\n",
    "\n",
    "forest_train_ok_y = np.zeros( shape = [ 192020 ] )\n",
    "\n",
    "forest_test_ok_x = np.zeros( shape = [ 82295, 29 ] )\n",
    "\n",
    "forest_test_ok_y = np.zeros( shape = [ 82295 ] )\n",
    "\n",
    "forest_train_not_ok_x = np.zeros( shape = [ 344, 29 ] )\n",
    "\n",
    "forest_train_not_ok_y = np.zeros( shape = [ 344 ] ) + 1.0\n",
    "\n",
    "forest_test_not_ok_x = np.zeros( shape = [ 148, 29 ] )\n",
    "\n",
    "forest_test_not_ok_y = np.zeros( shape = [ 148 ] ) + 1.0"
   ]
  },
  {
   "cell_type": "code",
   "execution_count": 18,
   "metadata": {},
   "outputs": [],
   "source": [
    "indices_ok_train = np.sort( np.random.choice( range( 192020 + 82295 ), size = 192020, replace = False ) )\n",
    "\n",
    "indices_ok_test = []\n",
    "\n",
    "i = 0\n",
    "\n",
    "for j in range( 192020 + 82295 ):\n",
    "    \n",
    "    if j == indices_ok_train[ i ]:\n",
    "        \n",
    "        i = i + 1\n",
    "        \n",
    "    else:\n",
    "        \n",
    "        indices_ok_test.append( j )"
   ]
  },
  {
   "cell_type": "code",
   "execution_count": 19,
   "metadata": {},
   "outputs": [],
   "source": [
    "indices_not_ok_train = np.sort( np.random.choice( range( 344 + 148 ), size = 344, replace = False ) )\n",
    "\n",
    "indices_not_ok_test = []\n",
    "\n",
    "i = 0\n",
    "\n",
    "for j in range( 344 + 148 ):\n",
    "    \n",
    "    if j == indices_not_ok_train[ i ]:\n",
    "        \n",
    "        i = i + 1\n",
    "        \n",
    "    else:\n",
    "        \n",
    "        indices_not_ok_test.append( j )"
   ]
  },
  {
   "cell_type": "code",
   "execution_count": 20,
   "metadata": {},
   "outputs": [],
   "source": [
    "forest_train_ok_x = forest_data_ok[ indices_ok_train, : ]\n",
    "\n",
    "forest_test_ok_x = forest_data_ok[ indices_ok_test, : ]\n",
    "\n",
    "forest_train_not_ok_x = forest_data_not_ok[ indices_not_ok_train, : ]\n",
    "\n",
    "forest_test_not_ok_x = forest_data_not_ok[ indices_not_ok_test, : ]"
   ]
  },
  {
   "cell_type": "code",
   "execution_count": 21,
   "metadata": {},
   "outputs": [],
   "source": [
    "forest_train_x = np.concatenate( ( forest_train_ok_x, forest_train_not_ok_x ) )\n",
    "\n",
    "forest_train_y = np.concatenate( ( forest_train_ok_y, forest_train_not_ok_y ) )\n",
    "\n",
    "forest_test_x = np.concatenate( ( forest_test_ok_x, forest_test_not_ok_x ) )\n",
    "\n",
    "forest_test_y = np.concatenate( ( forest_test_ok_y, forest_test_not_ok_y ) )"
   ]
  },
  {
   "cell_type": "markdown",
   "metadata": {},
   "source": [
    "Now, that we have prepared all the data, we code the __autoencoder__."
   ]
  },
  {
   "cell_type": "code",
   "execution_count": 22,
   "metadata": {},
   "outputs": [
    {
     "name": "stdout",
     "output_type": "stream",
     "text": [
      "WARNING:tensorflow:From C:\\Users\\rhopi\\Anaconda3\\lib\\site-packages\\tensorflow\\python\\framework\\op_def_library.py:263: colocate_with (from tensorflow.python.framework.ops) is deprecated and will be removed in a future version.\n",
      "Instructions for updating:\n",
      "Colocations handled automatically by placer.\n",
      "_________________________________________________________________\n",
      "Layer (type)                 Output Shape              Param #   \n",
      "=================================================================\n",
      "input_1 (InputLayer)         (None, 29)                0         \n",
      "_________________________________________________________________\n",
      "dense_1 (Dense)              (None, 256)               7680      \n",
      "_________________________________________________________________\n",
      "dense_2 (Dense)              (None, 128)               32896     \n",
      "=================================================================\n",
      "Total params: 40,576\n",
      "Trainable params: 40,576\n",
      "Non-trainable params: 0\n",
      "_________________________________________________________________\n"
     ]
    },
    {
     "name": "stderr",
     "output_type": "stream",
     "text": [
      "C:\\Users\\rhopi\\Anaconda3\\lib\\site-packages\\keras\\activations.py:211: UserWarning: Do not pass a layer instance (such as LeakyReLU) as the activation argument of another layer. Instead, advanced activation layers should be used just like any other layer in a model.\n",
      "  identifier=identifier.__class__.__name__))\n"
     ]
    }
   ],
   "source": [
    "input_encoder = keras.engine.input_layer.Input( shape = ( 29, ) )\n",
    "\n",
    "encoder_layer1 = layers.Dense( 256, activation = layers.LeakyReLU( alpha = 0.3 ) )( input_encoder )\n",
    "\n",
    "encoder_layer2 = layers.Dense( 128, activation = layers.LeakyReLU( alpha = 0.3 ) )( encoder_layer1 )\n",
    "\n",
    "encoder = keras.Model( input_encoder, encoder_layer2 )\n",
    "\n",
    "encoder.summary()"
   ]
  },
  {
   "cell_type": "code",
   "execution_count": 23,
   "metadata": {},
   "outputs": [
    {
     "name": "stdout",
     "output_type": "stream",
     "text": [
      "_________________________________________________________________\n",
      "Layer (type)                 Output Shape              Param #   \n",
      "=================================================================\n",
      "input_2 (InputLayer)         (None, 128)               0         \n",
      "_________________________________________________________________\n",
      "dense_3 (Dense)              (None, 256)               33024     \n",
      "_________________________________________________________________\n",
      "dense_4 (Dense)              (None, 29)                7453      \n",
      "=================================================================\n",
      "Total params: 40,477\n",
      "Trainable params: 40,477\n",
      "Non-trainable params: 0\n",
      "_________________________________________________________________\n"
     ]
    }
   ],
   "source": [
    "input_decoder = keras.engine.input_layer.Input( shape = ( 128, ) )\n",
    "\n",
    "decoder_layer1 = layers.Dense( 256, activation = layers.LeakyReLU( alpha = 0.3 ) )( input_decoder )\n",
    "\n",
    "decoder_layer2 = layers.Dense( 29, activation = layers.LeakyReLU( alpha = 0.3 ) )( decoder_layer1 )\n",
    "\n",
    "decoder = keras.Model( input_decoder, decoder_layer2 )\n",
    "\n",
    "decoder.summary()"
   ]
  },
  {
   "cell_type": "code",
   "execution_count": 24,
   "metadata": {},
   "outputs": [
    {
     "name": "stdout",
     "output_type": "stream",
     "text": [
      "_________________________________________________________________\n",
      "Layer (type)                 Output Shape              Param #   \n",
      "=================================================================\n",
      "input_1 (InputLayer)         (None, 29)                0         \n",
      "_________________________________________________________________\n",
      "model_1 (Model)              (None, 128)               40576     \n",
      "_________________________________________________________________\n",
      "model_2 (Model)              (None, 29)                40477     \n",
      "=================================================================\n",
      "Total params: 81,053\n",
      "Trainable params: 81,053\n",
      "Non-trainable params: 0\n",
      "_________________________________________________________________\n"
     ]
    }
   ],
   "source": [
    "autoencoder = keras.Model( input_encoder, decoder( encoder( input_encoder ) ) )\n",
    "\n",
    "autoencoder.summary()"
   ]
  },
  {
   "cell_type": "code",
   "execution_count": 25,
   "metadata": {},
   "outputs": [
    {
     "name": "stdout",
     "output_type": "stream",
     "text": [
      "WARNING:tensorflow:From C:\\Users\\rhopi\\Anaconda3\\lib\\site-packages\\tensorflow\\python\\ops\\math_ops.py:3066: to_int32 (from tensorflow.python.ops.math_ops) is deprecated and will be removed in a future version.\n",
      "Instructions for updating:\n",
      "Use tf.cast instead.\n",
      "Epoch 1/100\n",
      "10000/10000 [==============================] - 2s 176us/step - loss: 0.8079\n",
      "Epoch 2/100\n",
      "10000/10000 [==============================] - 0s 23us/step - loss: 0.4678\n",
      "Epoch 3/100\n",
      "10000/10000 [==============================] - 0s 23us/step - loss: 0.2802\n",
      "Epoch 4/100\n",
      "10000/10000 [==============================] - 0s 23us/step - loss: 0.1853\n",
      "Epoch 5/100\n",
      "10000/10000 [==============================] - 0s 22us/step - loss: 0.1394\n",
      "Epoch 6/100\n",
      "10000/10000 [==============================] - 0s 22us/step - loss: 0.1124\n",
      "Epoch 7/100\n",
      "10000/10000 [==============================] - 0s 22us/step - loss: 0.0960\n",
      "Epoch 8/100\n",
      "10000/10000 [==============================] - 0s 23us/step - loss: 0.0867\n",
      "Epoch 9/100\n",
      "10000/10000 [==============================] - 0s 23us/step - loss: 0.0791\n",
      "Epoch 10/100\n",
      "10000/10000 [==============================] - 0s 23us/step - loss: 0.0745\n",
      "Epoch 11/100\n",
      "10000/10000 [==============================] - 0s 24us/step - loss: 0.0686\n",
      "Epoch 12/100\n",
      "10000/10000 [==============================] - 0s 23us/step - loss: 0.0656\n",
      "Epoch 13/100\n",
      "10000/10000 [==============================] - 0s 23us/step - loss: 0.0632\n",
      "Epoch 14/100\n",
      "10000/10000 [==============================] - 0s 23us/step - loss: 0.0602\n",
      "Epoch 15/100\n",
      "10000/10000 [==============================] - 0s 23us/step - loss: 0.0584\n",
      "Epoch 16/100\n",
      "10000/10000 [==============================] - 0s 23us/step - loss: 0.0566\n",
      "Epoch 17/100\n",
      "10000/10000 [==============================] - 0s 24us/step - loss: 0.0538\n",
      "Epoch 18/100\n",
      "10000/10000 [==============================] - 0s 23us/step - loss: 0.0523\n",
      "Epoch 19/100\n",
      "10000/10000 [==============================] - 0s 23us/step - loss: 0.0502\n",
      "Epoch 20/100\n",
      "10000/10000 [==============================] - 0s 23us/step - loss: 0.0490\n",
      "Epoch 21/100\n",
      "10000/10000 [==============================] - 0s 23us/step - loss: 0.0479\n",
      "Epoch 22/100\n",
      "10000/10000 [==============================] - 0s 23us/step - loss: 0.0459\n",
      "Epoch 23/100\n",
      "10000/10000 [==============================] - 0s 23us/step - loss: 0.0449\n",
      "Epoch 24/100\n",
      "10000/10000 [==============================] - 0s 23us/step - loss: 0.0436\n",
      "Epoch 25/100\n",
      "10000/10000 [==============================] - 0s 24us/step - loss: 0.0425\n",
      "Epoch 26/100\n",
      "10000/10000 [==============================] - 0s 24us/step - loss: 0.0413\n",
      "Epoch 27/100\n",
      "10000/10000 [==============================] - 0s 23us/step - loss: 0.0410\n",
      "Epoch 28/100\n",
      "10000/10000 [==============================] - 0s 24us/step - loss: 0.0398\n",
      "Epoch 29/100\n",
      "10000/10000 [==============================] - 0s 23us/step - loss: 0.0395\n",
      "Epoch 30/100\n",
      "10000/10000 [==============================] - 0s 23us/step - loss: 0.0417\n",
      "Epoch 31/100\n",
      "10000/10000 [==============================] - 0s 23us/step - loss: 0.0397\n",
      "Epoch 32/100\n",
      "10000/10000 [==============================] - 0s 23us/step - loss: 0.0372\n",
      "Epoch 33/100\n",
      "10000/10000 [==============================] - 0s 23us/step - loss: 0.0353\n",
      "Epoch 34/100\n",
      "10000/10000 [==============================] - 0s 23us/step - loss: 0.0350\n",
      "Epoch 35/100\n",
      "10000/10000 [==============================] - 0s 23us/step - loss: 0.0339\n",
      "Epoch 36/100\n",
      "10000/10000 [==============================] - 0s 23us/step - loss: 0.0338\n",
      "Epoch 37/100\n",
      "10000/10000 [==============================] - 0s 24us/step - loss: 0.0330\n",
      "Epoch 38/100\n",
      "10000/10000 [==============================] - 0s 23us/step - loss: 0.0322\n",
      "Epoch 39/100\n",
      "10000/10000 [==============================] - 0s 23us/step - loss: 0.0318\n",
      "Epoch 40/100\n",
      "10000/10000 [==============================] - 0s 23us/step - loss: 0.0309\n",
      "Epoch 41/100\n",
      "10000/10000 [==============================] - 0s 23us/step - loss: 0.0307\n",
      "Epoch 42/100\n",
      "10000/10000 [==============================] - 0s 23us/step - loss: 0.0300\n",
      "Epoch 43/100\n",
      "10000/10000 [==============================] - 0s 23us/step - loss: 0.0293\n",
      "Epoch 44/100\n",
      "10000/10000 [==============================] - 0s 23us/step - loss: 0.0287\n",
      "Epoch 45/100\n",
      "10000/10000 [==============================] - 0s 24us/step - loss: 0.0282\n",
      "Epoch 46/100\n",
      "10000/10000 [==============================] - 0s 24us/step - loss: 0.0279\n",
      "Epoch 47/100\n",
      "10000/10000 [==============================] - 0s 24us/step - loss: 0.0274\n",
      "Epoch 48/100\n",
      "10000/10000 [==============================] - 0s 24us/step - loss: 0.0267\n",
      "Epoch 49/100\n",
      "10000/10000 [==============================] - 0s 23us/step - loss: 0.0263\n",
      "Epoch 50/100\n",
      "10000/10000 [==============================] - 0s 24us/step - loss: 0.0260\n",
      "Epoch 51/100\n",
      "10000/10000 [==============================] - 0s 24us/step - loss: 0.0264\n",
      "Epoch 52/100\n",
      "10000/10000 [==============================] - 0s 23us/step - loss: 0.0262\n",
      "Epoch 53/100\n",
      "10000/10000 [==============================] - 0s 23us/step - loss: 0.0251\n",
      "Epoch 54/100\n",
      "10000/10000 [==============================] - 0s 23us/step - loss: 0.0249\n",
      "Epoch 55/100\n",
      "10000/10000 [==============================] - 0s 23us/step - loss: 0.0242\n",
      "Epoch 56/100\n",
      "10000/10000 [==============================] - 0s 23us/step - loss: 0.0239\n",
      "Epoch 57/100\n",
      "10000/10000 [==============================] - 0s 23us/step - loss: 0.0235\n",
      "Epoch 58/100\n",
      "10000/10000 [==============================] - 0s 23us/step - loss: 0.0231\n",
      "Epoch 59/100\n",
      "10000/10000 [==============================] - 0s 23us/step - loss: 0.0226\n",
      "Epoch 60/100\n",
      "10000/10000 [==============================] - 0s 23us/step - loss: 0.0229\n",
      "Epoch 61/100\n",
      "10000/10000 [==============================] - 0s 23us/step - loss: 0.0221\n",
      "Epoch 62/100\n",
      "10000/10000 [==============================] - 0s 24us/step - loss: 0.0221\n",
      "Epoch 63/100\n",
      "10000/10000 [==============================] - 0s 23us/step - loss: 0.0220\n",
      "Epoch 64/100\n",
      "10000/10000 [==============================] - 0s 23us/step - loss: 0.0214\n",
      "Epoch 65/100\n",
      "10000/10000 [==============================] - 0s 23us/step - loss: 0.0210\n",
      "Epoch 66/100\n",
      "10000/10000 [==============================] - 0s 23us/step - loss: 0.0209\n",
      "Epoch 67/100\n",
      "10000/10000 [==============================] - 0s 23us/step - loss: 0.0213\n",
      "Epoch 68/100\n",
      "10000/10000 [==============================] - 0s 23us/step - loss: 0.0210\n",
      "Epoch 69/100\n",
      "10000/10000 [==============================] - 0s 23us/step - loss: 0.0203\n",
      "Epoch 70/100\n",
      "10000/10000 [==============================] - 0s 23us/step - loss: 0.0204\n",
      "Epoch 71/100\n",
      "10000/10000 [==============================] - 0s 23us/step - loss: 0.0199\n",
      "Epoch 72/100\n",
      "10000/10000 [==============================] - 0s 23us/step - loss: 0.0197\n",
      "Epoch 73/100\n",
      "10000/10000 [==============================] - 0s 23us/step - loss: 0.0208\n",
      "Epoch 74/100\n",
      "10000/10000 [==============================] - 0s 23us/step - loss: 0.0194\n",
      "Epoch 75/100\n",
      "10000/10000 [==============================] - 0s 23us/step - loss: 0.0189\n",
      "Epoch 76/100\n",
      "10000/10000 [==============================] - 0s 23us/step - loss: 0.0186\n",
      "Epoch 77/100\n",
      "10000/10000 [==============================] - 0s 23us/step - loss: 0.0186\n",
      "Epoch 78/100\n",
      "10000/10000 [==============================] - 0s 23us/step - loss: 0.0183\n",
      "Epoch 79/100\n",
      "10000/10000 [==============================] - 0s 23us/step - loss: 0.0184\n",
      "Epoch 80/100\n",
      "10000/10000 [==============================] - 0s 23us/step - loss: 0.0179\n",
      "Epoch 81/100\n",
      "10000/10000 [==============================] - 0s 23us/step - loss: 0.0177\n",
      "Epoch 82/100\n",
      "10000/10000 [==============================] - 0s 23us/step - loss: 0.0177\n",
      "Epoch 83/100\n",
      "10000/10000 [==============================] - 0s 23us/step - loss: 0.0178\n",
      "Epoch 84/100\n",
      "10000/10000 [==============================] - 0s 23us/step - loss: 0.0173\n",
      "Epoch 85/100\n",
      "10000/10000 [==============================] - 0s 23us/step - loss: 0.0171\n",
      "Epoch 86/100\n",
      "10000/10000 [==============================] - 0s 23us/step - loss: 0.0169\n",
      "Epoch 87/100\n",
      "10000/10000 [==============================] - 0s 23us/step - loss: 0.0169\n",
      "Epoch 88/100\n",
      "10000/10000 [==============================] - 0s 23us/step - loss: 0.0168\n",
      "Epoch 89/100\n",
      "10000/10000 [==============================] - 0s 23us/step - loss: 0.0164\n",
      "Epoch 90/100\n",
      "10000/10000 [==============================] - 0s 23us/step - loss: 0.0163\n",
      "Epoch 91/100\n"
     ]
    },
    {
     "name": "stdout",
     "output_type": "stream",
     "text": [
      "10000/10000 [==============================] - 0s 23us/step - loss: 0.0161\n",
      "Epoch 92/100\n",
      "10000/10000 [==============================] - 0s 23us/step - loss: 0.0164\n",
      "Epoch 93/100\n",
      "10000/10000 [==============================] - 0s 23us/step - loss: 0.0160\n",
      "Epoch 94/100\n",
      "10000/10000 [==============================] - 0s 23us/step - loss: 0.0164\n",
      "Epoch 95/100\n",
      "10000/10000 [==============================] - 0s 23us/step - loss: 0.0157\n",
      "Epoch 96/100\n",
      "10000/10000 [==============================] - 0s 23us/step - loss: 0.0156\n",
      "Epoch 97/100\n",
      "10000/10000 [==============================] - 0s 23us/step - loss: 0.0156\n",
      "Epoch 98/100\n",
      "10000/10000 [==============================] - 0s 23us/step - loss: 0.0153\n",
      "Epoch 99/100\n",
      "10000/10000 [==============================] - 0s 23us/step - loss: 0.0163\n",
      "Epoch 100/100\n",
      "10000/10000 [==============================] - 0s 22us/step - loss: 0.0152\n"
     ]
    },
    {
     "data": {
      "text/plain": [
       "<keras.callbacks.History at 0x18400876eb8>"
      ]
     },
     "execution_count": 25,
     "metadata": {},
     "output_type": "execute_result"
    }
   ],
   "source": [
    "autoencoder.compile( optimizer = keras.optimizers.SGD( lr = 0.1, momentum = 0.0, decay = 0.0, nesterov = False ),\n",
    "               loss = \"mean_squared_error\", metrics = None )\n",
    "\n",
    "autoencoder.fit( auto_train, auto_train, batch_size = 100, epochs = 100, shuffle = True )"
   ]
  },
  {
   "cell_type": "markdown",
   "metadata": {},
   "source": [
    "Now, we have trained the __autoencoder__ on non fraudulent data. We now can map the $29$-dimensional data into a $128$-dimensional space. Sincce the __autoencoder__ only saw non-fraudulent data, we expect, that fraudulent data are mapped far away from the non-fraudulent data."
   ]
  },
  {
   "cell_type": "code",
   "execution_count": 26,
   "metadata": {},
   "outputs": [],
   "source": [
    "mapped_train_x = encoder.predict( forest_train_x )\n",
    "\n",
    "mapped_test_x = encoder.predict( forest_test_x )"
   ]
  },
  {
   "cell_type": "markdown",
   "metadata": {},
   "source": [
    "Let's have a look at the mapped data. We use __t-sne__ for the dimensionality reduction. Since __t-sne__ is quite expensive, we look only at the last $2000$ data points from __mapped_train_x__."
   ]
  },
  {
   "cell_type": "code",
   "execution_count": 27,
   "metadata": {},
   "outputs": [
    {
     "name": "stdout",
     "output_type": "stream",
     "text": [
      "0.20.3\n"
     ]
    }
   ],
   "source": [
    "import sklearn\n",
    "from sklearn.manifold import TSNE\n",
    "\n",
    "print( sklearn.__version__ )"
   ]
  },
  {
   "cell_type": "code",
   "execution_count": 28,
   "metadata": {},
   "outputs": [],
   "source": [
    "two_d = TSNE( n_components = 2 ).fit_transform( X = mapped_train_x[ ( 190020 + 344 ) : ( 192020 + 344 ), :  ] ) "
   ]
  },
  {
   "cell_type": "code",
   "execution_count": 29,
   "metadata": {},
   "outputs": [
    {
     "name": "stdout",
     "output_type": "stream",
     "text": [
      "3.0.3\n"
     ]
    }
   ],
   "source": [
    "import matplotlib\n",
    "import matplotlib.pyplot as plt\n",
    "\n",
    "print( matplotlib.__version__ )"
   ]
  },
  {
   "cell_type": "code",
   "execution_count": 30,
   "metadata": {},
   "outputs": [],
   "source": [
    "colors = []\n",
    "\n",
    "for i in range( ( 190020 + 344 ), ( 192020 + 344 ) ):\n",
    "    \n",
    "    if forest_train_y[ i ] == 1:\n",
    "        \n",
    "        colors.append( \"blue\" )\n",
    "        \n",
    "    else:\n",
    "        \n",
    "        colors.append( \"red\" )"
   ]
  },
  {
   "cell_type": "code",
   "execution_count": 31,
   "metadata": {},
   "outputs": [
    {
     "data": {
      "text/plain": [
       "<matplotlib.collections.PathCollection at 0x185fb3c2ba8>"
      ]
     },
     "execution_count": 31,
     "metadata": {},
     "output_type": "execute_result"
    },
    {
     "data": {
      "image/png": "[encoded data removed]",
      "text/plain": [
       "<Figure size 432x288 with 1 Axes>"
      ]
     },
     "metadata": {
      "needs_background": "light"
     },
     "output_type": "display_data"
    }
   ],
   "source": [
    "plt.scatter( two_d[ :, 0 ], two_d[ :, 1 ], c = colors )"
   ]
  },
  {
   "cell_type": "markdown",
   "metadata": {},
   "source": [
    "Now, what is this? We trained the __autoencoder__ on $10000$ non-fraudulent data points. Then we mapped data containing fraudulent and non-fraudulent data into a $128$-dimensional space using the __encoder__ from the __autoencoder__. These $128$-dimensional data were then mapped back to a $2$-dimensional space using __t-sne__. Then we colored the fraudulent data in blue, and the non-fraudulent data in red. Even though the __encoder__ never saw fraudulent data, it learned, what non-fraudulent data look like, and therefore, it mapped fraudulent data away from non-fraudulent data.<br>\n",
    "Now let's train a random forest on the mapped data."
   ]
  },
  {
   "cell_type": "code",
   "execution_count": 32,
   "metadata": {},
   "outputs": [],
   "source": [
    "from sklearn.ensemble import RandomForestClassifier as RFC"
   ]
  },
  {
   "cell_type": "code",
   "execution_count": 33,
   "metadata": {},
   "outputs": [],
   "source": [
    "forest = RFC()"
   ]
  },
  {
   "cell_type": "code",
   "execution_count": 34,
   "metadata": {},
   "outputs": [
    {
     "name": "stderr",
     "output_type": "stream",
     "text": [
      "C:\\Users\\rhopi\\Anaconda3\\lib\\site-packages\\sklearn\\ensemble\\forest.py:246: FutureWarning: The default value of n_estimators will change from 10 in version 0.20 to 100 in 0.22.\n",
      "  \"10 in version 0.20 to 100 in 0.22.\", FutureWarning)\n"
     ]
    },
    {
     "data": {
      "text/plain": [
       "RandomForestClassifier(bootstrap=True, class_weight=None, criterion='gini',\n",
       "            max_depth=None, max_features='auto', max_leaf_nodes=None,\n",
       "            min_impurity_decrease=0.0, min_impurity_split=None,\n",
       "            min_samples_leaf=1, min_samples_split=2,\n",
       "            min_weight_fraction_leaf=0.0, n_estimators=10, n_jobs=None,\n",
       "            oob_score=False, random_state=None, verbose=0,\n",
       "            warm_start=False)"
      ]
     },
     "execution_count": 34,
     "metadata": {},
     "output_type": "execute_result"
    }
   ],
   "source": [
    "forest.fit( mapped_train_x, forest_train_y )"
   ]
  },
  {
   "cell_type": "code",
   "execution_count": 35,
   "metadata": {},
   "outputs": [],
   "source": [
    "prediction = forest.predict( mapped_test_x )"
   ]
  },
  {
   "cell_type": "code",
   "execution_count": 36,
   "metadata": {},
   "outputs": [],
   "source": [
    "from sklearn.metrics import classification_report"
   ]
  },
  {
   "cell_type": "code",
   "execution_count": 37,
   "metadata": {},
   "outputs": [
    {
     "name": "stdout",
     "output_type": "stream",
     "text": [
      "              precision    recall  f1-score   support\n",
      "\n",
      "         0.0       1.00      1.00      1.00     82295\n",
      "         1.0       0.97      0.76      0.85       148\n",
      "\n",
      "   micro avg       1.00      1.00      1.00     82443\n",
      "   macro avg       0.98      0.88      0.92     82443\n",
      "weighted avg       1.00      1.00      1.00     82443\n",
      "\n"
     ]
    }
   ],
   "source": [
    "print( classification_report( forest_test_y, prediction ) )"
   ]
  },
  {
   "cell_type": "markdown",
   "metadata": {},
   "source": [
    "This report tells us the following:<br>\n",
    "For the non-fraudulent data, the random forest classifier works really good.<br>\n",
    "For the fraudulent data, there are some minor problems: some non-fraudulent data were wrongly classified as fraudulent, and therefore, the precision, which is the ratio between true fraudulent cases and predicted fraudulent cases is less than $1$. However: since the precision is almost $1$, only a few non-fraudulent cases were wrongfully classified as fraudulent. The recall measures, how many true positive cases where classified and sets this in relation to the number of positive cases. Here, a value of $0.76$ means, that a quarter of the fraudulent cases where wrongfully classified as non-fraudulent. "
   ]
  }
 ],
 "metadata": {
  "kernelspec": {
   "display_name": "Python 3",
   "language": "python",
   "name": "python3"
  },
  "language_info": {
   "codemirror_mode": {
    "name": "ipython",
    "version": 3
   },
   "file_extension": ".py",
   "mimetype": "text/x-python",
   "name": "python",
   "nbconvert_exporter": "python",
   "pygments_lexer": "ipython3",
   "version": "3.7.3"
  }
 },
 "nbformat": 4,
 "nbformat_minor": 2
}
