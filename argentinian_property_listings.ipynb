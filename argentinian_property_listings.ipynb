{
 "cells": [
  {
   "cell_type": "markdown",
   "metadata": {},
   "source": [
    "# Argentinian Property Listings\n",
    "In this project, we take the Argentinian Property Listings from [the Kaggle data set](https://www.kaggle.com/rmjacobsen/property-listings-for-5-south-american-countries) and attempt to create a regressor for the property price."
   ]
  },
  {
   "cell_type": "code",
   "execution_count": 1,
   "metadata": {},
   "outputs": [
    {
     "name": "stdout",
     "output_type": "stream",
     "text": [
      "1.16.2\n"
     ]
    }
   ],
   "source": [
    "import numpy as np\n",
    "\n",
    "np.random.seed( 1234567890 )\n",
    "\n",
    "print( np.__version__ )"
   ]
  },
  {
   "cell_type": "code",
   "execution_count": 2,
   "metadata": {},
   "outputs": [
    {
     "name": "stdout",
     "output_type": "stream",
     "text": [
      "0.24.2\n"
     ]
    }
   ],
   "source": [
    "import pandas as pd\n",
    "\n",
    "print( pd.__version__ )"
   ]
  },
  {
   "cell_type": "code",
   "execution_count": 3,
   "metadata": {},
   "outputs": [],
   "source": [
    "import re"
   ]
  },
  {
   "cell_type": "code",
   "execution_count": 4,
   "metadata": {},
   "outputs": [
    {
     "data": {
      "text/html": [
       "<div>\n",
       "<style scoped>\n",
       "    .dataframe tbody tr th:only-of-type {\n",
       "        vertical-align: middle;\n",
       "    }\n",
       "\n",
       "    .dataframe tbody tr th {\n",
       "        vertical-align: top;\n",
       "    }\n",
       "\n",
       "    .dataframe thead th {\n",
       "        text-align: right;\n",
       "    }\n",
       "</style>\n",
       "<table border=\"1\" class=\"dataframe\">\n",
       "  <thead>\n",
       "    <tr style=\"text-align: right;\">\n",
       "      <th></th>\n",
       "      <th>id</th>\n",
       "      <th>ad_type</th>\n",
       "      <th>start_date</th>\n",
       "      <th>end_date</th>\n",
       "      <th>created_on</th>\n",
       "      <th>lat</th>\n",
       "      <th>lon</th>\n",
       "      <th>l1</th>\n",
       "      <th>l2</th>\n",
       "      <th>l3</th>\n",
       "      <th>...</th>\n",
       "      <th>bathrooms</th>\n",
       "      <th>surface_total</th>\n",
       "      <th>surface_covered</th>\n",
       "      <th>price</th>\n",
       "      <th>currency</th>\n",
       "      <th>price_period</th>\n",
       "      <th>title</th>\n",
       "      <th>description</th>\n",
       "      <th>property_type</th>\n",
       "      <th>operation_type</th>\n",
       "    </tr>\n",
       "  </thead>\n",
       "  <tbody>\n",
       "    <tr>\n",
       "      <th>0</th>\n",
       "      <td>7LoZFkSIPOTox0r32ck42Q==</td>\n",
       "      <td>Propiedad</td>\n",
       "      <td>2019-09-15</td>\n",
       "      <td>2019-10-26</td>\n",
       "      <td>2019-09-15</td>\n",
       "      <td>-26.815439</td>\n",
       "      <td>-65.312393</td>\n",
       "      <td>Argentina</td>\n",
       "      <td>Tucumán</td>\n",
       "      <td>Yerba Buena</td>\n",
       "      <td>...</td>\n",
       "      <td>NaN</td>\n",
       "      <td>NaN</td>\n",
       "      <td>NaN</td>\n",
       "      <td>NaN</td>\n",
       "      <td>NaN</td>\n",
       "      <td>Mensual</td>\n",
       "      <td>Terreno - Yerba Buena</td>\n",
       "      <td>Accesos pavimentados.&lt;br&gt;Red subterránea de ag...</td>\n",
       "      <td>Lote</td>\n",
       "      <td>Venta</td>\n",
       "    </tr>\n",
       "    <tr>\n",
       "      <th>1</th>\n",
       "      <td>QsZD4OxZInNd5po5LQDRmg==</td>\n",
       "      <td>Propiedad</td>\n",
       "      <td>2019-09-15</td>\n",
       "      <td>9999-12-31</td>\n",
       "      <td>2019-09-15</td>\n",
       "      <td>-26.839469</td>\n",
       "      <td>-65.212790</td>\n",
       "      <td>Argentina</td>\n",
       "      <td>Tucumán</td>\n",
       "      <td>NaN</td>\n",
       "      <td>...</td>\n",
       "      <td>1.0</td>\n",
       "      <td>55.0</td>\n",
       "      <td>41.0</td>\n",
       "      <td>NaN</td>\n",
       "      <td>NaN</td>\n",
       "      <td>Mensual</td>\n",
       "      <td>Departamento - Capital</td>\n",
       "      <td>Detalles constructivos:&lt;br&gt;&lt;br&gt;Pisos de porcel...</td>\n",
       "      <td>Departamento</td>\n",
       "      <td>Venta</td>\n",
       "    </tr>\n",
       "    <tr>\n",
       "      <th>2</th>\n",
       "      <td>qDtysoUgbnHLp0W9We+8fg==</td>\n",
       "      <td>Propiedad</td>\n",
       "      <td>2019-09-15</td>\n",
       "      <td>2019-09-25</td>\n",
       "      <td>2019-09-15</td>\n",
       "      <td>-31.424820</td>\n",
       "      <td>-64.181225</td>\n",
       "      <td>Argentina</td>\n",
       "      <td>Córdoba</td>\n",
       "      <td>Córdoba</td>\n",
       "      <td>...</td>\n",
       "      <td>1.0</td>\n",
       "      <td>45.0</td>\n",
       "      <td>45.0</td>\n",
       "      <td>NaN</td>\n",
       "      <td>NaN</td>\n",
       "      <td>Mensual</td>\n",
       "      <td>1 DORMITORIO | San Lorenzo al 400</td>\n",
       "      <td>Alquiler temporario de Departamento 1 DORMITOR...</td>\n",
       "      <td>Departamento</td>\n",
       "      <td>Alquiler temporal</td>\n",
       "    </tr>\n",
       "    <tr>\n",
       "      <th>3</th>\n",
       "      <td>olj51zV0HFurmaZ78U0ssg==</td>\n",
       "      <td>Propiedad</td>\n",
       "      <td>2019-09-15</td>\n",
       "      <td>2019-09-25</td>\n",
       "      <td>2019-09-15</td>\n",
       "      <td>-31.421242</td>\n",
       "      <td>-64.190798</td>\n",
       "      <td>Argentina</td>\n",
       "      <td>Córdoba</td>\n",
       "      <td>Córdoba</td>\n",
       "      <td>...</td>\n",
       "      <td>1.0</td>\n",
       "      <td>48.0</td>\n",
       "      <td>48.0</td>\n",
       "      <td>NaN</td>\n",
       "      <td>NaN</td>\n",
       "      <td>Mensual</td>\n",
       "      <td>1 DORMITORIO | M. T. de Alvear al 500</td>\n",
       "      <td>Alquiler temporario de Departamento 1 DORMITOR...</td>\n",
       "      <td>Departamento</td>\n",
       "      <td>Alquiler temporal</td>\n",
       "    </tr>\n",
       "    <tr>\n",
       "      <th>4</th>\n",
       "      <td>OcS1SAA5oAzjZ3Mzg3XHyg==</td>\n",
       "      <td>Propiedad</td>\n",
       "      <td>2019-09-15</td>\n",
       "      <td>2019-09-25</td>\n",
       "      <td>2019-09-15</td>\n",
       "      <td>-31.426064</td>\n",
       "      <td>-64.180042</td>\n",
       "      <td>Argentina</td>\n",
       "      <td>Córdoba</td>\n",
       "      <td>Córdoba</td>\n",
       "      <td>...</td>\n",
       "      <td>1.0</td>\n",
       "      <td>45.0</td>\n",
       "      <td>45.0</td>\n",
       "      <td>NaN</td>\n",
       "      <td>NaN</td>\n",
       "      <td>Mensual</td>\n",
       "      <td>1 DORMITORIO | Av. Poeta Lugones  al 200</td>\n",
       "      <td>Alquiler temporario de Departamento 1 DORMITOR...</td>\n",
       "      <td>Departamento</td>\n",
       "      <td>Alquiler temporal</td>\n",
       "    </tr>\n",
       "  </tbody>\n",
       "</table>\n",
       "<p>5 rows × 25 columns</p>\n",
       "</div>"
      ],
      "text/plain": [
       "                         id    ad_type  start_date    end_date  created_on  \\\n",
       "0  7LoZFkSIPOTox0r32ck42Q==  Propiedad  2019-09-15  2019-10-26  2019-09-15   \n",
       "1  QsZD4OxZInNd5po5LQDRmg==  Propiedad  2019-09-15  9999-12-31  2019-09-15   \n",
       "2  qDtysoUgbnHLp0W9We+8fg==  Propiedad  2019-09-15  2019-09-25  2019-09-15   \n",
       "3  olj51zV0HFurmaZ78U0ssg==  Propiedad  2019-09-15  2019-09-25  2019-09-15   \n",
       "4  OcS1SAA5oAzjZ3Mzg3XHyg==  Propiedad  2019-09-15  2019-09-25  2019-09-15   \n",
       "\n",
       "         lat        lon         l1       l2           l3  ... bathrooms  \\\n",
       "0 -26.815439 -65.312393  Argentina  Tucumán  Yerba Buena  ...       NaN   \n",
       "1 -26.839469 -65.212790  Argentina  Tucumán          NaN  ...       1.0   \n",
       "2 -31.424820 -64.181225  Argentina  Córdoba      Córdoba  ...       1.0   \n",
       "3 -31.421242 -64.190798  Argentina  Córdoba      Córdoba  ...       1.0   \n",
       "4 -31.426064 -64.180042  Argentina  Córdoba      Córdoba  ...       1.0   \n",
       "\n",
       "  surface_total  surface_covered  price  currency  price_period  \\\n",
       "0           NaN              NaN    NaN       NaN       Mensual   \n",
       "1          55.0             41.0    NaN       NaN       Mensual   \n",
       "2          45.0             45.0    NaN       NaN       Mensual   \n",
       "3          48.0             48.0    NaN       NaN       Mensual   \n",
       "4          45.0             45.0    NaN       NaN       Mensual   \n",
       "\n",
       "                                      title  \\\n",
       "0                     Terreno - Yerba Buena   \n",
       "1                    Departamento - Capital   \n",
       "2         1 DORMITORIO | San Lorenzo al 400   \n",
       "3     1 DORMITORIO | M. T. de Alvear al 500   \n",
       "4  1 DORMITORIO | Av. Poeta Lugones  al 200   \n",
       "\n",
       "                                         description  property_type  \\\n",
       "0  Accesos pavimentados.<br>Red subterránea de ag...           Lote   \n",
       "1  Detalles constructivos:<br><br>Pisos de porcel...   Departamento   \n",
       "2  Alquiler temporario de Departamento 1 DORMITOR...   Departamento   \n",
       "3  Alquiler temporario de Departamento 1 DORMITOR...   Departamento   \n",
       "4  Alquiler temporario de Departamento 1 DORMITOR...   Departamento   \n",
       "\n",
       "      operation_type  \n",
       "0              Venta  \n",
       "1              Venta  \n",
       "2  Alquiler temporal  \n",
       "3  Alquiler temporal  \n",
       "4  Alquiler temporal  \n",
       "\n",
       "[5 rows x 25 columns]"
      ]
     },
     "execution_count": 4,
     "metadata": {},
     "output_type": "execute_result"
    }
   ],
   "source": [
    "property_data = pd.read_csv( \"C:\\\\Users\\\\rhopi\\\\OneDrive\\\\Desktop\\\\kaggle data 1\\\\property listings data set\\\\ar_properties.csv\" )\n",
    "\n",
    "property_data.head()"
   ]
  },
  {
   "cell_type": "markdown",
   "metadata": {},
   "source": [
    "Obviously, we have to do some cleanup. Since we want to create a regressor for the price, we drop all the entries that have no price."
   ]
  },
  {
   "cell_type": "code",
   "execution_count": 5,
   "metadata": {},
   "outputs": [
    {
     "name": "stdout",
     "output_type": "stream",
     "text": [
      "(1000000, 25)\n"
     ]
    }
   ],
   "source": [
    "print( property_data.shape )"
   ]
  },
  {
   "cell_type": "code",
   "execution_count": 6,
   "metadata": {},
   "outputs": [
    {
     "data": {
      "text/html": [
       "<div>\n",
       "<style scoped>\n",
       "    .dataframe tbody tr th:only-of-type {\n",
       "        vertical-align: middle;\n",
       "    }\n",
       "\n",
       "    .dataframe tbody tr th {\n",
       "        vertical-align: top;\n",
       "    }\n",
       "\n",
       "    .dataframe thead th {\n",
       "        text-align: right;\n",
       "    }\n",
       "</style>\n",
       "<table border=\"1\" class=\"dataframe\">\n",
       "  <thead>\n",
       "    <tr style=\"text-align: right;\">\n",
       "      <th></th>\n",
       "      <th>id</th>\n",
       "      <th>ad_type</th>\n",
       "      <th>start_date</th>\n",
       "      <th>end_date</th>\n",
       "      <th>created_on</th>\n",
       "      <th>lat</th>\n",
       "      <th>lon</th>\n",
       "      <th>l1</th>\n",
       "      <th>l2</th>\n",
       "      <th>l3</th>\n",
       "      <th>...</th>\n",
       "      <th>bathrooms</th>\n",
       "      <th>surface_total</th>\n",
       "      <th>surface_covered</th>\n",
       "      <th>price</th>\n",
       "      <th>currency</th>\n",
       "      <th>price_period</th>\n",
       "      <th>title</th>\n",
       "      <th>description</th>\n",
       "      <th>property_type</th>\n",
       "      <th>operation_type</th>\n",
       "    </tr>\n",
       "  </thead>\n",
       "  <tbody>\n",
       "    <tr>\n",
       "      <th>20</th>\n",
       "      <td>jgIzAKLaljBee5xKVoCs3A==</td>\n",
       "      <td>Propiedad</td>\n",
       "      <td>2019-09-15</td>\n",
       "      <td>2020-03-15</td>\n",
       "      <td>2019-09-15</td>\n",
       "      <td>-34.643029</td>\n",
       "      <td>-58.368769</td>\n",
       "      <td>Argentina</td>\n",
       "      <td>Capital Federal</td>\n",
       "      <td>Barracas</td>\n",
       "      <td>...</td>\n",
       "      <td>NaN</td>\n",
       "      <td>NaN</td>\n",
       "      <td>NaN</td>\n",
       "      <td>35000.0</td>\n",
       "      <td>ARS</td>\n",
       "      <td>Mensual</td>\n",
       "      <td>PH 5 AMB CON AMPLIA TERRAZA Y BALCÓN</td>\n",
       "      <td>CODIGO: 4429-11 ubicado en: AVENIDA PATRICIOS ...</td>\n",
       "      <td>PH</td>\n",
       "      <td>Alquiler</td>\n",
       "    </tr>\n",
       "    <tr>\n",
       "      <th>21</th>\n",
       "      <td>kzR5ghTwqnCfkf1A1CU6HA==</td>\n",
       "      <td>Propiedad</td>\n",
       "      <td>2019-09-15</td>\n",
       "      <td>2019-09-21</td>\n",
       "      <td>2019-09-15</td>\n",
       "      <td>-34.476510</td>\n",
       "      <td>-58.534146</td>\n",
       "      <td>Argentina</td>\n",
       "      <td>Bs.As. G.B.A. Zona Norte</td>\n",
       "      <td>San Isidro</td>\n",
       "      <td>...</td>\n",
       "      <td>2.0</td>\n",
       "      <td>110.0</td>\n",
       "      <td>NaN</td>\n",
       "      <td>25000.0</td>\n",
       "      <td>ARS</td>\n",
       "      <td>Mensual</td>\n",
       "      <td>PH - Las Lomas-San Isidro</td>\n",
       "      <td>ALQUILER PH SIN EXPENSAS SAN ISIDRO  Don Bosco...</td>\n",
       "      <td>PH</td>\n",
       "      <td>Alquiler</td>\n",
       "    </tr>\n",
       "    <tr>\n",
       "      <th>22</th>\n",
       "      <td>M60/Oh5ToxGELDNQHKASrQ==</td>\n",
       "      <td>Propiedad</td>\n",
       "      <td>2019-09-15</td>\n",
       "      <td>2019-10-29</td>\n",
       "      <td>2019-09-15</td>\n",
       "      <td>NaN</td>\n",
       "      <td>NaN</td>\n",
       "      <td>Argentina</td>\n",
       "      <td>Bs.As. G.B.A. Zona Norte</td>\n",
       "      <td>Tigre</td>\n",
       "      <td>...</td>\n",
       "      <td>2.0</td>\n",
       "      <td>190.0</td>\n",
       "      <td>160.0</td>\n",
       "      <td>45000.0</td>\n",
       "      <td>ARS</td>\n",
       "      <td>Mensual</td>\n",
       "      <td>Venta. Alquiler anual.  Casa estilo moderno. 5...</td>\n",
       "      <td>MAM (2). Hermosa casa diseñada en una planta, ...</td>\n",
       "      <td>Casa</td>\n",
       "      <td>Alquiler</td>\n",
       "    </tr>\n",
       "    <tr>\n",
       "      <th>23</th>\n",
       "      <td>pjPcCHWnjKcN05hNhI0ssg==</td>\n",
       "      <td>Propiedad</td>\n",
       "      <td>2019-09-15</td>\n",
       "      <td>2019-10-29</td>\n",
       "      <td>2019-09-15</td>\n",
       "      <td>NaN</td>\n",
       "      <td>NaN</td>\n",
       "      <td>Argentina</td>\n",
       "      <td>Bs.As. G.B.A. Zona Norte</td>\n",
       "      <td>Tigre</td>\n",
       "      <td>...</td>\n",
       "      <td>2.0</td>\n",
       "      <td>190.0</td>\n",
       "      <td>160.0</td>\n",
       "      <td>45000.0</td>\n",
       "      <td>ARS</td>\n",
       "      <td>Mensual</td>\n",
       "      <td>ALQUILER  Casa estilo racionalista en una plan...</td>\n",
       "      <td>MAM. Hermosa casa diseñada en una planta, con ...</td>\n",
       "      <td>Casa</td>\n",
       "      <td>Alquiler</td>\n",
       "    </tr>\n",
       "    <tr>\n",
       "      <th>24</th>\n",
       "      <td>0Py/8IGj4qZsfLk7lEgPvA==</td>\n",
       "      <td>Propiedad</td>\n",
       "      <td>2019-09-15</td>\n",
       "      <td>2019-09-17</td>\n",
       "      <td>2019-09-15</td>\n",
       "      <td>-31.431401</td>\n",
       "      <td>-64.225170</td>\n",
       "      <td>Argentina</td>\n",
       "      <td>Córdoba</td>\n",
       "      <td>Córdoba</td>\n",
       "      <td>...</td>\n",
       "      <td>1.0</td>\n",
       "      <td>40.0</td>\n",
       "      <td>40.0</td>\n",
       "      <td>7000.0</td>\n",
       "      <td>ARS</td>\n",
       "      <td>NaN</td>\n",
       "      <td>Consultorio en alquiler</td>\n",
       "      <td>Consultorio ideal para centro de estética, pos...</td>\n",
       "      <td>Oficina</td>\n",
       "      <td>Alquiler</td>\n",
       "    </tr>\n",
       "  </tbody>\n",
       "</table>\n",
       "<p>5 rows × 25 columns</p>\n",
       "</div>"
      ],
      "text/plain": [
       "                          id    ad_type  start_date    end_date  created_on  \\\n",
       "20  jgIzAKLaljBee5xKVoCs3A==  Propiedad  2019-09-15  2020-03-15  2019-09-15   \n",
       "21  kzR5ghTwqnCfkf1A1CU6HA==  Propiedad  2019-09-15  2019-09-21  2019-09-15   \n",
       "22  M60/Oh5ToxGELDNQHKASrQ==  Propiedad  2019-09-15  2019-10-29  2019-09-15   \n",
       "23  pjPcCHWnjKcN05hNhI0ssg==  Propiedad  2019-09-15  2019-10-29  2019-09-15   \n",
       "24  0Py/8IGj4qZsfLk7lEgPvA==  Propiedad  2019-09-15  2019-09-17  2019-09-15   \n",
       "\n",
       "          lat        lon         l1                        l2          l3  \\\n",
       "20 -34.643029 -58.368769  Argentina           Capital Federal    Barracas   \n",
       "21 -34.476510 -58.534146  Argentina  Bs.As. G.B.A. Zona Norte  San Isidro   \n",
       "22        NaN        NaN  Argentina  Bs.As. G.B.A. Zona Norte       Tigre   \n",
       "23        NaN        NaN  Argentina  Bs.As. G.B.A. Zona Norte       Tigre   \n",
       "24 -31.431401 -64.225170  Argentina                   Córdoba     Córdoba   \n",
       "\n",
       "    ... bathrooms surface_total  surface_covered    price  currency  \\\n",
       "20  ...       NaN           NaN              NaN  35000.0       ARS   \n",
       "21  ...       2.0         110.0              NaN  25000.0       ARS   \n",
       "22  ...       2.0         190.0            160.0  45000.0       ARS   \n",
       "23  ...       2.0         190.0            160.0  45000.0       ARS   \n",
       "24  ...       1.0          40.0             40.0   7000.0       ARS   \n",
       "\n",
       "    price_period                                              title  \\\n",
       "20       Mensual               PH 5 AMB CON AMPLIA TERRAZA Y BALCÓN   \n",
       "21       Mensual                          PH - Las Lomas-San Isidro   \n",
       "22       Mensual  Venta. Alquiler anual.  Casa estilo moderno. 5...   \n",
       "23       Mensual  ALQUILER  Casa estilo racionalista en una plan...   \n",
       "24           NaN                            Consultorio en alquiler   \n",
       "\n",
       "                                          description  property_type  \\\n",
       "20  CODIGO: 4429-11 ubicado en: AVENIDA PATRICIOS ...             PH   \n",
       "21  ALQUILER PH SIN EXPENSAS SAN ISIDRO  Don Bosco...             PH   \n",
       "22  MAM (2). Hermosa casa diseñada en una planta, ...           Casa   \n",
       "23  MAM. Hermosa casa diseñada en una planta, con ...           Casa   \n",
       "24  Consultorio ideal para centro de estética, pos...        Oficina   \n",
       "\n",
       "   operation_type  \n",
       "20       Alquiler  \n",
       "21       Alquiler  \n",
       "22       Alquiler  \n",
       "23       Alquiler  \n",
       "24       Alquiler  \n",
       "\n",
       "[5 rows x 25 columns]"
      ]
     },
     "execution_count": 6,
     "metadata": {},
     "output_type": "execute_result"
    }
   ],
   "source": [
    "property_data = property_data.dropna( subset = [ \"price\" ] )\n",
    "\n",
    "property_data.head()"
   ]
  },
  {
   "cell_type": "code",
   "execution_count": 7,
   "metadata": {},
   "outputs": [
    {
     "name": "stdout",
     "output_type": "stream",
     "text": [
      "(951327, 25)\n"
     ]
    }
   ],
   "source": [
    "print( property_data.shape )"
   ]
  },
  {
   "cell_type": "markdown",
   "metadata": {},
   "source": [
    "Now, we check, how many currencies there are."
   ]
  },
  {
   "cell_type": "code",
   "execution_count": 8,
   "metadata": {},
   "outputs": [
    {
     "name": "stdout",
     "output_type": "stream",
     "text": [
      "currency\n",
      "ARS    243595\n",
      "PEN        62\n",
      "USD    699509\n",
      "UYU      2329\n",
      "dtype: int64\n"
     ]
    }
   ],
   "source": [
    "print( property_data.groupby( [ \"currency\" ] ).size() )"
   ]
  },
  {
   "cell_type": "markdown",
   "metadata": {},
   "source": [
    "Since __USD__ is the most common currency, we drop all the other currencies."
   ]
  },
  {
   "cell_type": "code",
   "execution_count": 9,
   "metadata": {},
   "outputs": [
    {
     "data": {
      "text/html": [
       "<div>\n",
       "<style scoped>\n",
       "    .dataframe tbody tr th:only-of-type {\n",
       "        vertical-align: middle;\n",
       "    }\n",
       "\n",
       "    .dataframe tbody tr th {\n",
       "        vertical-align: top;\n",
       "    }\n",
       "\n",
       "    .dataframe thead th {\n",
       "        text-align: right;\n",
       "    }\n",
       "</style>\n",
       "<table border=\"1\" class=\"dataframe\">\n",
       "  <thead>\n",
       "    <tr style=\"text-align: right;\">\n",
       "      <th></th>\n",
       "      <th>id</th>\n",
       "      <th>ad_type</th>\n",
       "      <th>start_date</th>\n",
       "      <th>end_date</th>\n",
       "      <th>created_on</th>\n",
       "      <th>lat</th>\n",
       "      <th>lon</th>\n",
       "      <th>l1</th>\n",
       "      <th>l2</th>\n",
       "      <th>l3</th>\n",
       "      <th>...</th>\n",
       "      <th>bedrooms</th>\n",
       "      <th>bathrooms</th>\n",
       "      <th>surface_total</th>\n",
       "      <th>surface_covered</th>\n",
       "      <th>price</th>\n",
       "      <th>price_period</th>\n",
       "      <th>title</th>\n",
       "      <th>description</th>\n",
       "      <th>property_type</th>\n",
       "      <th>operation_type</th>\n",
       "    </tr>\n",
       "  </thead>\n",
       "  <tbody>\n",
       "    <tr>\n",
       "      <th>44</th>\n",
       "      <td>EWeY8jVhb8ielLeKtfibVw==</td>\n",
       "      <td>Propiedad</td>\n",
       "      <td>2019-09-15</td>\n",
       "      <td>2020-01-20</td>\n",
       "      <td>2019-09-15</td>\n",
       "      <td>NaN</td>\n",
       "      <td>NaN</td>\n",
       "      <td>Argentina</td>\n",
       "      <td>Bs.As. G.B.A. Zona Norte</td>\n",
       "      <td>Tigre</td>\n",
       "      <td>...</td>\n",
       "      <td>NaN</td>\n",
       "      <td>2.0</td>\n",
       "      <td>198.0</td>\n",
       "      <td>150.0</td>\n",
       "      <td>385000.0</td>\n",
       "      <td>Mensual</td>\n",
       "      <td>Venta. Casa en una planta, 4 amb. con galería ...</td>\n",
       "      <td>MAM.(2) Hermosa propiedad en Barrio San Franci...</td>\n",
       "      <td>Casa</td>\n",
       "      <td>Venta</td>\n",
       "    </tr>\n",
       "    <tr>\n",
       "      <th>45</th>\n",
       "      <td>IrEeG8ewIcfLVGSb14kH1w==</td>\n",
       "      <td>Propiedad</td>\n",
       "      <td>2019-09-15</td>\n",
       "      <td>2020-01-20</td>\n",
       "      <td>2019-09-15</td>\n",
       "      <td>NaN</td>\n",
       "      <td>NaN</td>\n",
       "      <td>Argentina</td>\n",
       "      <td>Bs.As. G.B.A. Zona Norte</td>\n",
       "      <td>Tigre</td>\n",
       "      <td>...</td>\n",
       "      <td>NaN</td>\n",
       "      <td>2.0</td>\n",
       "      <td>198.0</td>\n",
       "      <td>150.0</td>\n",
       "      <td>385000.0</td>\n",
       "      <td>Mensual</td>\n",
       "      <td>Venta. Casa en una planta.Lote interno. Barrio...</td>\n",
       "      <td>MAM. Hermosa propiedad en Barrio San Francisco...</td>\n",
       "      <td>Casa</td>\n",
       "      <td>Venta</td>\n",
       "    </tr>\n",
       "    <tr>\n",
       "      <th>46</th>\n",
       "      <td>hPuiyAjuBI92uEQdFoY4Fw==</td>\n",
       "      <td>Propiedad</td>\n",
       "      <td>2019-09-15</td>\n",
       "      <td>9999-12-31</td>\n",
       "      <td>2019-09-15</td>\n",
       "      <td>-27.371199</td>\n",
       "      <td>-55.898454</td>\n",
       "      <td>Argentina</td>\n",
       "      <td>Misiones</td>\n",
       "      <td>Posadas</td>\n",
       "      <td>...</td>\n",
       "      <td>NaN</td>\n",
       "      <td>2.0</td>\n",
       "      <td>173.0</td>\n",
       "      <td>173.0</td>\n",
       "      <td>195000.0</td>\n",
       "      <td>Mensual</td>\n",
       "      <td>Casa - Posadas</td>\n",
       "      <td>Inmueble centrico  ideal para Local comercial ...</td>\n",
       "      <td>Casa</td>\n",
       "      <td>Venta</td>\n",
       "    </tr>\n",
       "    <tr>\n",
       "      <th>47</th>\n",
       "      <td>9vIWv494LqC6crAkfpLeDg==</td>\n",
       "      <td>Propiedad</td>\n",
       "      <td>2019-09-15</td>\n",
       "      <td>2020-03-03</td>\n",
       "      <td>2019-09-15</td>\n",
       "      <td>NaN</td>\n",
       "      <td>NaN</td>\n",
       "      <td>Argentina</td>\n",
       "      <td>Santa Fe</td>\n",
       "      <td>Rosario</td>\n",
       "      <td>...</td>\n",
       "      <td>NaN</td>\n",
       "      <td>1.0</td>\n",
       "      <td>49.0</td>\n",
       "      <td>40.0</td>\n",
       "      <td>85000.0</td>\n",
       "      <td>Mensual</td>\n",
       "      <td>Cabaña en la Isla sobre riacho Los Marinos - V...</td>\n",
       "      <td>Lote de 20 metros de frente por 130 metros de ...</td>\n",
       "      <td>Casa</td>\n",
       "      <td>Venta</td>\n",
       "    </tr>\n",
       "    <tr>\n",
       "      <th>48</th>\n",
       "      <td>aydrtgoZ/frzXDcV20McuA==</td>\n",
       "      <td>Propiedad</td>\n",
       "      <td>2019-09-15</td>\n",
       "      <td>2020-03-03</td>\n",
       "      <td>2019-09-15</td>\n",
       "      <td>-32.951146</td>\n",
       "      <td>-60.571979</td>\n",
       "      <td>Argentina</td>\n",
       "      <td>Entre Ríos</td>\n",
       "      <td>Victoria</td>\n",
       "      <td>...</td>\n",
       "      <td>NaN</td>\n",
       "      <td>1.0</td>\n",
       "      <td>49.0</td>\n",
       "      <td>40.0</td>\n",
       "      <td>85000.0</td>\n",
       "      <td>Mensual</td>\n",
       "      <td>Cabaña en la Isla sobre riacho Los Marinos - V...</td>\n",
       "      <td>Lote de 20 metros de frente por 130 metros de ...</td>\n",
       "      <td>Casa</td>\n",
       "      <td>Venta</td>\n",
       "    </tr>\n",
       "  </tbody>\n",
       "</table>\n",
       "<p>5 rows × 24 columns</p>\n",
       "</div>"
      ],
      "text/plain": [
       "                          id    ad_type  start_date    end_date  created_on  \\\n",
       "44  EWeY8jVhb8ielLeKtfibVw==  Propiedad  2019-09-15  2020-01-20  2019-09-15   \n",
       "45  IrEeG8ewIcfLVGSb14kH1w==  Propiedad  2019-09-15  2020-01-20  2019-09-15   \n",
       "46  hPuiyAjuBI92uEQdFoY4Fw==  Propiedad  2019-09-15  9999-12-31  2019-09-15   \n",
       "47  9vIWv494LqC6crAkfpLeDg==  Propiedad  2019-09-15  2020-03-03  2019-09-15   \n",
       "48  aydrtgoZ/frzXDcV20McuA==  Propiedad  2019-09-15  2020-03-03  2019-09-15   \n",
       "\n",
       "          lat        lon         l1                        l2        l3  ...  \\\n",
       "44        NaN        NaN  Argentina  Bs.As. G.B.A. Zona Norte     Tigre  ...   \n",
       "45        NaN        NaN  Argentina  Bs.As. G.B.A. Zona Norte     Tigre  ...   \n",
       "46 -27.371199 -55.898454  Argentina                  Misiones   Posadas  ...   \n",
       "47        NaN        NaN  Argentina                  Santa Fe   Rosario  ...   \n",
       "48 -32.951146 -60.571979  Argentina                Entre Ríos  Victoria  ...   \n",
       "\n",
       "   bedrooms bathrooms  surface_total  surface_covered     price  price_period  \\\n",
       "44      NaN       2.0          198.0            150.0  385000.0       Mensual   \n",
       "45      NaN       2.0          198.0            150.0  385000.0       Mensual   \n",
       "46      NaN       2.0          173.0            173.0  195000.0       Mensual   \n",
       "47      NaN       1.0           49.0             40.0   85000.0       Mensual   \n",
       "48      NaN       1.0           49.0             40.0   85000.0       Mensual   \n",
       "\n",
       "                                                title  \\\n",
       "44  Venta. Casa en una planta, 4 amb. con galería ...   \n",
       "45  Venta. Casa en una planta.Lote interno. Barrio...   \n",
       "46                                     Casa - Posadas   \n",
       "47  Cabaña en la Isla sobre riacho Los Marinos - V...   \n",
       "48  Cabaña en la Isla sobre riacho Los Marinos - V...   \n",
       "\n",
       "                                          description  property_type  \\\n",
       "44  MAM.(2) Hermosa propiedad en Barrio San Franci...           Casa   \n",
       "45  MAM. Hermosa propiedad en Barrio San Francisco...           Casa   \n",
       "46  Inmueble centrico  ideal para Local comercial ...           Casa   \n",
       "47  Lote de 20 metros de frente por 130 metros de ...           Casa   \n",
       "48  Lote de 20 metros de frente por 130 metros de ...           Casa   \n",
       "\n",
       "   operation_type  \n",
       "44          Venta  \n",
       "45          Venta  \n",
       "46          Venta  \n",
       "47          Venta  \n",
       "48          Venta  \n",
       "\n",
       "[5 rows x 24 columns]"
      ]
     },
     "execution_count": 9,
     "metadata": {},
     "output_type": "execute_result"
    }
   ],
   "source": [
    "property_data = property_data[ property_data[ \"currency\" ] == \"USD\" ]\n",
    "\n",
    "property_data = property_data.drop( [ \"currency\" ], axis = 1 )\n",
    "\n",
    "property_data.head()"
   ]
  },
  {
   "cell_type": "markdown",
   "metadata": {},
   "source": [
    "Now, we split the data into a __train__ set and a __test__ set. We choose the ratio between these two to be $70:30$."
   ]
  },
  {
   "cell_type": "code",
   "execution_count": 10,
   "metadata": {},
   "outputs": [],
   "source": [
    "train = property_data.sample( frac = 0.7, random_state = 1234567890 )\n",
    "\n",
    "test = property_data.drop( train.index )"
   ]
  },
  {
   "cell_type": "markdown",
   "metadata": {},
   "source": [
    "Now, we drop the columns __id__, __start_date__, __end_date__ and __created_on__, since we assume the prices to be static."
   ]
  },
  {
   "cell_type": "code",
   "execution_count": 11,
   "metadata": {},
   "outputs": [],
   "source": [
    "train = train.drop( [ \"id\", \"start_date\", \"end_date\", \"created_on\" ], axis = 1 )\n",
    "\n",
    "test = test.drop( [ \"id\", \"start_date\", \"end_date\", \"created_on\" ], axis = 1 )"
   ]
  },
  {
   "cell_type": "markdown",
   "metadata": {},
   "source": [
    "Next, we find out, whether there are different __ad_type__s."
   ]
  },
  {
   "cell_type": "code",
   "execution_count": 12,
   "metadata": {},
   "outputs": [
    {
     "name": "stdout",
     "output_type": "stream",
     "text": [
      "ad_type\n",
      "Propiedad    489656\n",
      "dtype: int64\n"
     ]
    }
   ],
   "source": [
    "print( train.groupby( [ \"ad_type\" ] ).size() )"
   ]
  },
  {
   "cell_type": "markdown",
   "metadata": {},
   "source": [
    "Since there is only one __ad_type__, we can drop this information."
   ]
  },
  {
   "cell_type": "code",
   "execution_count": 13,
   "metadata": {},
   "outputs": [],
   "source": [
    "train = train.drop( [ \"ad_type\" ], axis = 1 )\n",
    "\n",
    "test = test.drop( [ \"ad_type\" ], axis = 1 )"
   ]
  },
  {
   "cell_type": "markdown",
   "metadata": {},
   "source": [
    "Next, we check the column __l1__."
   ]
  },
  {
   "cell_type": "code",
   "execution_count": 14,
   "metadata": {},
   "outputs": [
    {
     "name": "stdout",
     "output_type": "stream",
     "text": [
      "l1\n",
      "Argentina         476338\n",
      "Brasil                21\n",
      "Estados Unidos       502\n",
      "Uruguay            12795\n",
      "dtype: int64\n"
     ]
    }
   ],
   "source": [
    "print( train.groupby( [ \"l1\" ] ).size() )"
   ]
  },
  {
   "cell_type": "markdown",
   "metadata": {},
   "source": [
    "We restrict ourselves to the data from __Argentina__."
   ]
  },
  {
   "cell_type": "code",
   "execution_count": 15,
   "metadata": {},
   "outputs": [],
   "source": [
    "train = train[ train[ \"l1\" ] == \"Argentina\" ]\n",
    "\n",
    "train = train.drop( [ \"l1\" ], axis = 1 )\n",
    "\n",
    "test = test[ test[ \"l1\" ] == \"Argentina\" ]\n",
    "\n",
    "test = test.drop( [ \"l1\" ], axis = 1 )"
   ]
  },
  {
   "cell_type": "markdown",
   "metadata": {},
   "source": [
    "Now, let's have a look at the __price_period__."
   ]
  },
  {
   "cell_type": "code",
   "execution_count": 16,
   "metadata": {
    "scrolled": true
   },
   "outputs": [
    {
     "name": "stdout",
     "output_type": "stream",
     "text": [
      "price_period\n",
      "Diario          5\n",
      "Mensual    170205\n",
      "Semanal        24\n",
      "dtype: int64\n"
     ]
    }
   ],
   "source": [
    "print( train.groupby( [ \"price_period\" ] ).size() )"
   ]
  },
  {
   "cell_type": "markdown",
   "metadata": {},
   "source": [
    "We restrict ourselves to __Mensual__."
   ]
  },
  {
   "cell_type": "code",
   "execution_count": 17,
   "metadata": {},
   "outputs": [],
   "source": [
    "train = train[ train[ \"price_period\" ] == \"Mensual\" ]\n",
    "\n",
    "train = train.drop( [ \"price_period\" ], axis = 1 )\n",
    "\n",
    "test = test[ test[ \"price_period\" ] == \"Mensual\" ]\n",
    "\n",
    "test = test.drop( [ \"price_period\" ], axis = 1 )"
   ]
  },
  {
   "cell_type": "markdown",
   "metadata": {},
   "source": [
    "Let's have a look at the __operation_type__."
   ]
  },
  {
   "cell_type": "code",
   "execution_count": 18,
   "metadata": {},
   "outputs": [
    {
     "name": "stdout",
     "output_type": "stream",
     "text": [
      "operation_type\n",
      "Alquiler               4822\n",
      "Alquiler temporal      3382\n",
      "Venta                162001\n",
      "dtype: int64\n"
     ]
    }
   ],
   "source": [
    "print( train.groupby( [ \"operation_type\" ] ).size() )"
   ]
  },
  {
   "cell_type": "markdown",
   "metadata": {},
   "source": [
    "We restrict ourselves to __Venta__."
   ]
  },
  {
   "cell_type": "code",
   "execution_count": 19,
   "metadata": {},
   "outputs": [],
   "source": [
    "train = train[ train[ \"operation_type\" ] == \"Venta\" ]\n",
    "\n",
    "train = train.drop( [ \"operation_type\" ], axis = 1 )\n",
    "\n",
    "test = test[ test[ \"operation_type\" ] == \"Venta\" ]\n",
    "\n",
    "test = test.drop( [ \"operation_type\" ], axis = 1 )"
   ]
  },
  {
   "cell_type": "markdown",
   "metadata": {},
   "source": [
    "Next, we investigate the __property_type__."
   ]
  },
  {
   "cell_type": "code",
   "execution_count": 20,
   "metadata": {},
   "outputs": [
    {
     "name": "stdout",
     "output_type": "stream",
     "text": [
      "property_type\n",
      "Casa               32177\n",
      "Casa de campo        139\n",
      "Cochera             1754\n",
      "Departamento       62003\n",
      "Depósito             515\n",
      "Local comercial     4806\n",
      "Lote               16160\n",
      "Oficina             2553\n",
      "Otro               34577\n",
      "PH                  7317\n",
      "dtype: int64\n"
     ]
    }
   ],
   "source": [
    "print( train.groupby( [ \"property_type\" ] ).size() )"
   ]
  },
  {
   "cell_type": "markdown",
   "metadata": {},
   "source": [
    "Now, we check, whether there are __NaN__ values in __property_type__."
   ]
  },
  {
   "cell_type": "code",
   "execution_count": 21,
   "metadata": {},
   "outputs": [
    {
     "name": "stdout",
     "output_type": "stream",
     "text": [
      "0    0\n",
      "dtype: int64\n"
     ]
    }
   ],
   "source": [
    "print( pd.Series( train[ \"property_type\" ].isna().sum() ) )"
   ]
  },
  {
   "cell_type": "code",
   "execution_count": 22,
   "metadata": {},
   "outputs": [
    {
     "name": "stdout",
     "output_type": "stream",
     "text": [
      "0    0\n",
      "dtype: int64\n"
     ]
    }
   ],
   "source": [
    "print( pd.Series( test[ \"property_type\" ].isna().sum() ) )"
   ]
  },
  {
   "cell_type": "markdown",
   "metadata": {},
   "source": [
    "Now, we add for each property type a new column to the dataframes."
   ]
  },
  {
   "cell_type": "code",
   "execution_count": 23,
   "metadata": {},
   "outputs": [],
   "source": [
    "train_size = train.shape[ 0 ]\n",
    "\n",
    "test_size = test.shape[ 0 ]"
   ]
  },
  {
   "cell_type": "code",
   "execution_count": 24,
   "metadata": {},
   "outputs": [
    {
     "name": "stdout",
     "output_type": "stream",
     "text": [
      "dict_keys(['Casa', 'Casa de campo', 'Cochera', 'Departamento', 'Depósito', 'Local comercial', 'Lote', 'Oficina', 'Otro', 'PH'])\n"
     ]
    }
   ],
   "source": [
    "property_types = train.groupby( [ \"property_type\" ] ).groups.keys()\n",
    "\n",
    "print( property_types )"
   ]
  },
  {
   "cell_type": "code",
   "execution_count": 25,
   "metadata": {},
   "outputs": [],
   "source": [
    "for group in property_types:\n",
    "    \n",
    "    train[ group ] = np.zeros( shape = [ train_size ], dtype = np.bool )\n",
    "    \n",
    "    train.loc[ train[ \"property_type\" ] == group, group ] = True\n",
    "    \n",
    "    test[ group ] = np.zeros( shape = [ test_size ], dtype = np.bool )\n",
    "    \n",
    "    test.loc[ test[ \"property_type\" ] == group, group ] = True\n",
    "    \n",
    "train = train.drop( [ \"property_type\" ], axis = 1 )\n",
    "\n",
    "test = test.drop( [ \"property_type\" ], axis = 1 )"
   ]
  },
  {
   "cell_type": "markdown",
   "metadata": {},
   "source": [
    "Next, we investigate __lat__ and __lon__."
   ]
  },
  {
   "cell_type": "code",
   "execution_count": 26,
   "metadata": {},
   "outputs": [],
   "source": [
    "mean_lat = np.nanmean( train[ \"lat\" ].to_numpy() )\n",
    "\n",
    "mean_lon = np.nanmean( train[ \"lon\" ].to_numpy() )"
   ]
  },
  {
   "cell_type": "markdown",
   "metadata": {},
   "source": [
    "Now, that we have computed the mean of __lon__ and __lat__, we replace the __NaN__ values in __lon__ and __lat__ with the means, and also, we add two new columns, __imp_lon__ and __imp_lat__, that tell, whether __lon__ and __lat__ where imputed with their means."
   ]
  },
  {
   "cell_type": "code",
   "execution_count": 27,
   "metadata": {},
   "outputs": [],
   "source": [
    "train[ \"imp_lat\" ] = np.zeros( shape = [ train_size ], dtype = np.bool )\n",
    "\n",
    "train[ \"imp_lon\" ] = np.zeros( shape = [ train_size ], dtype = np.bool )\n",
    "\n",
    "train.loc[ np.isnan( train[ \"lat\" ] ), \"lat\" ] = mean_lat\n",
    "\n",
    "train.loc[ np.isnan( train[ \"lat\" ] ), \"imp_lat\" ] = True\n",
    "\n",
    "train.loc[ np.isnan( train[ \"lon\" ] ), \"lon\" ] = mean_lat\n",
    "\n",
    "train.loc[ np.isnan( train[ \"lon\" ] ), \"imp_lon\" ] = True\n",
    "\n",
    "test[ \"imp_lat\" ] = np.zeros( shape = [ test_size ], dtype = np.bool )\n",
    "\n",
    "test[ \"imp_lon\" ] = np.zeros( shape = [ test_size ], dtype = np.bool )\n",
    "\n",
    "test.loc[ np.isnan( test[ \"lat\" ] ), \"lat\" ] = mean_lat\n",
    "\n",
    "test.loc[ np.isnan( test[ \"lat\" ] ), \"imp_lat\" ] = True\n",
    "\n",
    "test.loc[ np.isnan( test[ \"lon\" ] ), \"lon\" ] = mean_lat\n",
    "\n",
    "test.loc[ np.isnan( test[ \"lon\" ] ), \"imp_lon\" ] = True"
   ]
  },
  {
   "cell_type": "markdown",
   "metadata": {},
   "source": [
    "Now, we have a look at what columns we can work with next."
   ]
  },
  {
   "cell_type": "code",
   "execution_count": 28,
   "metadata": {},
   "outputs": [
    {
     "name": "stdout",
     "output_type": "stream",
     "text": [
      "Index(['lat', 'lon', 'l2', 'l3', 'l4', 'l5', 'l6', 'rooms', 'bedrooms',\n",
      "       'bathrooms', 'surface_total', 'surface_covered', 'price', 'title',\n",
      "       'description', 'Casa', 'Casa de campo', 'Cochera', 'Departamento',\n",
      "       'Depósito', 'Local comercial', 'Lote', 'Oficina', 'Otro', 'PH',\n",
      "       'imp_lat', 'imp_lon'],\n",
      "      dtype='object')\n"
     ]
    }
   ],
   "source": [
    "print( train.columns )"
   ]
  },
  {
   "cell_type": "markdown",
   "metadata": {},
   "source": [
    "Let's have a look at __l2__."
   ]
  },
  {
   "cell_type": "code",
   "execution_count": 29,
   "metadata": {},
   "outputs": [
    {
     "name": "stdout",
     "output_type": "stream",
     "text": [
      "l2\n",
      "Bs.As. G.B.A. Zona Norte        27062\n",
      "Bs.As. G.B.A. Zona Oeste        14400\n",
      "Bs.As. G.B.A. Zona Sur          15291\n",
      "Buenos Aires Costa Atlántica    28362\n",
      "Buenos Aires Interior            3161\n",
      "Capital Federal                 54496\n",
      "Catamarca                          25\n",
      "Chaco                              21\n",
      "Chubut                            244\n",
      "Corrientes                         20\n",
      "Córdoba                          7008\n",
      "Entre Ríos                        358\n",
      "Formosa                             8\n",
      "Jujuy                               9\n",
      "La Pampa                          129\n",
      "La Rioja                           13\n",
      "Mendoza                           655\n",
      "Misiones                          227\n",
      "Neuquén                           885\n",
      "Río Negro                         902\n",
      "Salta                             159\n",
      "San Juan                           66\n",
      "San Luis                          393\n",
      "Santa Cruz                         24\n",
      "Santa Fe                         7566\n",
      "Santiago Del Estero                18\n",
      "Tierra Del Fuego                   30\n",
      "Tucumán                           469\n",
      "dtype: int64\n"
     ]
    }
   ],
   "source": [
    "print( train.groupby( [ \"l2\" ] ).size() )"
   ]
  },
  {
   "cell_type": "markdown",
   "metadata": {},
   "source": [
    "We will also one hot encode these data."
   ]
  },
  {
   "cell_type": "code",
   "execution_count": 30,
   "metadata": {},
   "outputs": [],
   "source": [
    "l2_data = train.groupby( [ \"l2\" ] ).groups.keys()"
   ]
  },
  {
   "cell_type": "code",
   "execution_count": 31,
   "metadata": {},
   "outputs": [],
   "source": [
    "for group in l2_data:\n",
    "    \n",
    "    train[ group ] = np.zeros( shape = [ train_size ], dtype = np.bool )\n",
    "    \n",
    "    train.loc[ train[ \"l2\" ] == group, group ] = True\n",
    "    \n",
    "    test[ group ] = np.zeros( shape = [ test_size ], dtype = np.bool )\n",
    "    \n",
    "    test.loc[ test[ \"l2\" ] == group, group ] = True\n",
    "    \n",
    "train = train.drop( [ \"l2\" ], axis = 1 )\n",
    "\n",
    "test = test.drop( [ \"l2\" ], axis = 1 )"
   ]
  },
  {
   "cell_type": "markdown",
   "metadata": {},
   "source": [
    "And now __l3__."
   ]
  },
  {
   "cell_type": "code",
   "execution_count": 32,
   "metadata": {},
   "outputs": [
    {
     "name": "stdout",
     "output_type": "stream",
     "text": [
      "l3\n",
      "9 de Julio                      2\n",
      "Abasto                        190\n",
      "Adolfo Alsina                   1\n",
      "Aeroparque                      1\n",
      "Agrelo                          1\n",
      "Agronomía                     121\n",
      "Agua de Oro                    11\n",
      "Aguas Verdes                   16\n",
      "Alicia                          2\n",
      "Allen                           1\n",
      "Almafuerte                      3\n",
      "Almagro                      3439\n",
      "Almirante Brown               742\n",
      "Alta Gracia                    10\n",
      "Aluminé                        12\n",
      "Alvear                         88\n",
      "Anisacate                       3\n",
      "Apóstoles                       2\n",
      "Arrecifes                       8\n",
      "Arroyo Leyes                   18\n",
      "Arroyo Seco                     2\n",
      "Ascochinga                      1\n",
      "Ataliva Roca                    2\n",
      "Atlántida                       1\n",
      "Avellaneda                   1019\n",
      "Ayacucho                        6\n",
      "Azul                           12\n",
      "Añelo                          30\n",
      "Bahía Blanca                  262\n",
      "Balcarce                       66\n",
      "                             ... \n",
      "Villa Olivari                   1\n",
      "Villa Ortuzar                 244\n",
      "Villa Paranacito                2\n",
      "Villa Parque Santa Ana          1\n",
      "Villa Parque Siquiman           3\n",
      "Villa Pueyrredón              431\n",
      "Villa Real                     46\n",
      "Villa Reynolds                  1\n",
      "Villa Riachuelo                 3\n",
      "Villa San Lorenzo               9\n",
      "Villa Santa Cruz del Lago       2\n",
      "Villa Santa Rita              221\n",
      "Villa Soldati                  26\n",
      "Villa Urquiza                1731\n",
      "Villa Yacanto                   1\n",
      "Villa de Las Rosas             10\n",
      "Villa de María                  1\n",
      "Villa del Carmen                1\n",
      "Villa del Dique                 7\n",
      "Villa del Parque              583\n",
      "Villa del Totoral               5\n",
      "Villada                         1\n",
      "Villarino                       1\n",
      "Vista Flores                    1\n",
      "Vistalba                        5\n",
      "Wenceslao Escalante            18\n",
      "Yacu Hurmana                    5\n",
      "Yerba Buena                   153\n",
      "Zonda                           1\n",
      "Zárate                         17\n",
      "Length: 603, dtype: int64\n"
     ]
    }
   ],
   "source": [
    "print( train.groupby( [ \"l3\" ] ).size() )"
   ]
  },
  {
   "cell_type": "markdown",
   "metadata": {},
   "source": [
    "Since there are many names that appear only once (confer \"Zonda\"), we drop this column."
   ]
  },
  {
   "cell_type": "code",
   "execution_count": 33,
   "metadata": {},
   "outputs": [],
   "source": [
    "train = train.drop( [ \"l3\" ], axis = 1 )\n",
    "\n",
    "test = test.drop( [ \"l3\" ], axis = 1 )"
   ]
  },
  {
   "cell_type": "markdown",
   "metadata": {},
   "source": [
    "Now __l4__."
   ]
  },
  {
   "cell_type": "code",
   "execution_count": 34,
   "metadata": {},
   "outputs": [
    {
     "name": "stdout",
     "output_type": "stream",
     "text": [
      "l4\n",
      " Country Maschwitz Club                     22\n",
      "9 de Abril                                   9\n",
      "Abasto                                      66\n",
      "Abbott                                       4\n",
      "Abril Club de Campo                         50\n",
      "Acacias Blancas                             23\n",
      "Acassuso                                   207\n",
      "Adrogué                                    372\n",
      "Aero Country Club                            3\n",
      "Agustín Mosconi                              1\n",
      "Albanueva Barrio Cerrado                    52\n",
      "Alberdi                                    135\n",
      "Aldo Bonzi                                  12\n",
      "Alejandro Korn                              14\n",
      "Alejandro Petión                             6\n",
      "Alem                                         6\n",
      "Alfar                                        1\n",
      "Alta Córdoba                               108\n",
      "Altamira                                    10\n",
      "Alto Los Cardales                            2\n",
      "Altos de Hudson I                            7\n",
      "Altos de Hudson II                          15\n",
      "Altos de Manzanares 1 y 2                   13\n",
      "Altos del Golf                               3\n",
      "Altos del Pilar                              8\n",
      "Armenia Country Club                         4\n",
      "Arrecifes                                    4\n",
      "Arturo Seguí                                17\n",
      "Atalaya                                      1\n",
      "Avellaneda                                 154\n",
      "                                          ... \n",
      "Villa Rosa                                 162\n",
      "Villa Ruiz                                   1\n",
      "Villa San Luis                               1\n",
      "Villa Sarmiento                            117\n",
      "Villa Tesei                                373\n",
      "Villa Udaondo                               81\n",
      "Villa Vatteone                               7\n",
      "Villa Ventana                                2\n",
      "Villa de Mayo                               18\n",
      "Village Golf & Tennis Country Club           2\n",
      "Villanueva                                   8\n",
      "Villars                                     12\n",
      "Virasoro Village                             1\n",
      "Virrey del Pino                             20\n",
      "Virreyes                                    41\n",
      "Wilde                                      439\n",
      "Windbells                                    7\n",
      "Zapiola                                      1\n",
      "Zeballos                                     1\n",
      "Zelaya                                      18\n",
      "Zárate                                       7\n",
      "Álvarez Jonte                                1\n",
      "Área 1 \"Nuestra Señora del Pilar\"            3\n",
      "Área 10 \"Nuestra Señora De Fátima\"           6\n",
      "Área 11 \"Nuestra Señora de Lourdes\"          1\n",
      "Área 12 \"Nuestra Señora de la Asunción\"      2\n",
      "Área 5 \"Nuestra Señora de Itatí\"             2\n",
      "Área 7 \"Nuestra Señora de Luján\"             2\n",
      "Área 9 \"Nuestra Señora de la Paz\"            1\n",
      "Área de Promoción El Triángulo              13\n",
      "Length: 725, dtype: int64\n"
     ]
    }
   ],
   "source": [
    "print( train.groupby( [ \"l4\" ] ).size() )"
   ]
  },
  {
   "cell_type": "markdown",
   "metadata": {},
   "source": [
    "We also drop this column."
   ]
  },
  {
   "cell_type": "code",
   "execution_count": 35,
   "metadata": {},
   "outputs": [],
   "source": [
    "train = train.drop( [ \"l4\" ], axis = 1 )\n",
    "\n",
    "test = test.drop( [ \"l4\" ], axis = 1 )"
   ]
  },
  {
   "cell_type": "markdown",
   "metadata": {},
   "source": [
    "__l5__."
   ]
  },
  {
   "cell_type": "code",
   "execution_count": 36,
   "metadata": {},
   "outputs": [
    {
     "name": "stdout",
     "output_type": "stream",
     "text": [
      "l5\n",
      "Barrio Barrancas del Lago        23\n",
      "Barrio Cabos del Lago            12\n",
      "Barrio El Golf                   99\n",
      "Barrio El Yacht                  35\n",
      "Barrio La Alameda                26\n",
      "Barrio La Isla                   18\n",
      "Barrio Lagos del Golf 1           7\n",
      "Barrio Lagos del Golf 2          42\n",
      "Barrio Las Caletas                9\n",
      "Barrio Las Glorietas             24\n",
      "Barrio Los Alisos                57\n",
      "Barrio Los Castores              26\n",
      "Barrio Los Lagos                 64\n",
      "Barrio Los Sauces                39\n",
      "Barrio Los Tilos                 48\n",
      "Barrio Residencial Pacheco 1      1\n",
      "Barrio Residencial Pacheco 2      2\n",
      "BarrioPortezuelo                117\n",
      "Enyoi                             2\n",
      "Islas del Canal                  34\n",
      "QBay Yacht                        2\n",
      "dtype: int64\n"
     ]
    }
   ],
   "source": [
    "print( train.groupby( [ \"l5\" ] ).size() )"
   ]
  },
  {
   "cell_type": "markdown",
   "metadata": {},
   "source": [
    "There must be many __NaN__ values in this column. That's why we drop this column as well."
   ]
  },
  {
   "cell_type": "code",
   "execution_count": 37,
   "metadata": {},
   "outputs": [],
   "source": [
    "train = train.drop( [ \"l5\" ], axis = 1 )\n",
    "\n",
    "test = test.drop( [ \"l5\" ], axis = 1 )"
   ]
  },
  {
   "cell_type": "markdown",
   "metadata": {},
   "source": [
    "__l6__."
   ]
  },
  {
   "cell_type": "code",
   "execution_count": 38,
   "metadata": {},
   "outputs": [
    {
     "name": "stdout",
     "output_type": "stream",
     "text": [
      "0    162001\n",
      "dtype: int64\n"
     ]
    }
   ],
   "source": [
    "print( pd.Series( train[ \"l6\" ].isna().sum() ) )"
   ]
  },
  {
   "cell_type": "markdown",
   "metadata": {},
   "source": [
    "Since this column has only __NaN__ values, we can drop this one, too."
   ]
  },
  {
   "cell_type": "code",
   "execution_count": 39,
   "metadata": {},
   "outputs": [],
   "source": [
    "train = train.drop( [ \"l6\" ], axis = 1 )\n",
    "\n",
    "test = test.drop( [ \"l6\" ], axis = 1 )"
   ]
  },
  {
   "cell_type": "markdown",
   "metadata": {},
   "source": [
    "For the columns __rooms__, __bedrooms__, __bathrooms__, __surface_total__ and __surface_covered__, we perform the same considerations we performed for __lat__ and __lon__."
   ]
  },
  {
   "cell_type": "code",
   "execution_count": 40,
   "metadata": {},
   "outputs": [],
   "source": [
    "mean_rooms = np.nanmean( train[ \"rooms\" ].to_numpy() )\n",
    "\n",
    "mean_bedrooms = np.nanmean( train[ \"bedrooms\" ].to_numpy() )\n",
    "\n",
    "mean_bathrooms = np.nanmean( train[ \"bathrooms\" ].to_numpy() )\n",
    "\n",
    "mean_surface_total = np.nanmean( train[ \"surface_total\" ].to_numpy() )\n",
    "\n",
    "mean_surface_covered = np.nanmean( train[ \"surface_covered\" ].to_numpy() )"
   ]
  },
  {
   "cell_type": "code",
   "execution_count": 41,
   "metadata": {},
   "outputs": [],
   "source": [
    "train[ \"imp_rooms\" ] = np.zeros( shape = [ train_size ], dtype = np.bool )\n",
    "\n",
    "train[ \"imp_bedrooms\" ] = np.zeros( shape = [ train_size ], dtype = np.bool )\n",
    "\n",
    "train[ \"imp_bathrooms\" ] = np.zeros( shape = [ train_size ], dtype = np.bool )\n",
    "\n",
    "train[ \"imp_surface_total\" ] = np.zeros( shape = [ train_size ], dtype = np.bool )\n",
    "\n",
    "train[ \"imp_surface_covered\" ] = np.zeros( shape = [ train_size ], dtype = np.bool )\n",
    "\n",
    "train.loc[ np.isnan( train[ \"rooms\" ] ), \"rooms\" ] = mean_rooms\n",
    "\n",
    "train.loc[ np.isnan( train[ \"rooms\" ] ), \"imp_rooms\" ] = True\n",
    "\n",
    "train.loc[ np.isnan( train[ \"bedrooms\" ] ), \"bedrooms\" ] = mean_bedrooms\n",
    "\n",
    "train.loc[ np.isnan( train[ \"bedrooms\" ] ), \"imp_bedrooms\" ] = True\n",
    "\n",
    "train.loc[ np.isnan( train[ \"bathrooms\" ] ), \"bathrooms\" ] = mean_bathrooms\n",
    "\n",
    "train.loc[ np.isnan( train[ \"bathrooms\" ] ), \"imp_bathrooms\" ] = True\n",
    "\n",
    "train.loc[ np.isnan( train[ \"surface_total\" ] ), \"surface_total\" ] = mean_surface_total\n",
    "\n",
    "train.loc[ np.isnan( train[ \"surface_total\" ] ), \"imp_surface_total\" ] = True\n",
    "\n",
    "train.loc[ np.isnan( train[ \"surface_covered\" ] ), \"surface_covered\" ] = mean_surface_covered\n",
    "\n",
    "train.loc[ np.isnan( train[ \"surface_covered\" ] ), \"imp_surface_covered\" ] = True\n",
    "\n",
    "test[ \"imp_rooms\" ] = np.zeros( shape = [ test_size ], dtype = np.bool )\n",
    "\n",
    "test[ \"imp_bedrooms\" ] = np.zeros( shape = [ test_size ], dtype = np.bool )\n",
    "\n",
    "test[ \"imp_bathrooms\" ] = np.zeros( shape = [ test_size ], dtype = np.bool )\n",
    "\n",
    "test[ \"imp_surface_total\" ] = np.zeros( shape = [ test_size ], dtype = np.bool )\n",
    "\n",
    "test[ \"imp_surface_covered\" ] = np.zeros( shape = [ test_size ], dtype = np.bool )\n",
    "\n",
    "test.loc[ np.isnan( test[ \"rooms\" ] ), \"rooms\" ] = mean_rooms\n",
    "\n",
    "test.loc[ np.isnan( test[ \"rooms\" ] ), \"imp_rooms\" ] = True\n",
    "\n",
    "test.loc[ np.isnan( test[ \"bedrooms\" ] ), \"bedrooms\" ] = mean_bedrooms\n",
    "\n",
    "test.loc[ np.isnan( test[ \"bedrooms\" ] ), \"imp_bedrooms\" ] = True\n",
    "\n",
    "test.loc[ np.isnan( test[ \"bathrooms\" ] ), \"bathrooms\" ] = mean_bathrooms\n",
    "\n",
    "test.loc[ np.isnan( test[ \"bathrooms\" ] ), \"imp_bathrooms\" ] = True\n",
    "\n",
    "test.loc[ np.isnan( test[ \"surface_total\" ] ), \"surface_total\" ] = mean_surface_total\n",
    "\n",
    "test.loc[ np.isnan( test[ \"surface_total\" ] ), \"imp_surface_total\" ] = True\n",
    "\n",
    "test.loc[ np.isnan( test[ \"surface_covered\" ] ), \"surface_covered\" ] = mean_surface_covered\n",
    "\n",
    "test.loc[ np.isnan( test[ \"surface_covered\" ] ), \"imp_surface_covered\" ] = True"
   ]
  },
  {
   "cell_type": "markdown",
   "metadata": {},
   "source": [
    "Next, we zoom in on the __title__ and the __description__."
   ]
  },
  {
   "cell_type": "code",
   "execution_count": 42,
   "metadata": {},
   "outputs": [
    {
     "name": "stdout",
     "output_type": "stream",
     "text": [
      "Ambiente y medio\n"
     ]
    }
   ],
   "source": [
    "print( train[ \"title\" ].iloc[ 0 ] )"
   ]
  },
  {
   "cell_type": "code",
   "execution_count": 43,
   "metadata": {},
   "outputs": [
    {
     "name": "stdout",
     "output_type": "stream",
     "text": [
      "Departamento de un ambiente con patio, luminoso.  Posee cocina con ventilacion natural, heladera con frezzer, aire acondicionado, WiFi.   Sommiers dos plazas.  Baño completo con bañera.   Buena ubicación.  Buen estado. Disponibilidad y precios<br><br><br>1 dic.  2016 a 15 mar.  2017<br><br><br>  Ref#118592.\n"
     ]
    }
   ],
   "source": [
    "print( train[ \"description\" ].iloc[ 0 ] )"
   ]
  },
  {
   "cell_type": "markdown",
   "metadata": {},
   "source": [
    "Since both columns contain text, we create a bag of words which contains the $1000$ most common words that appear in the __title__ and the __description__."
   ]
  },
  {
   "cell_type": "code",
   "execution_count": 44,
   "metadata": {},
   "outputs": [],
   "source": [
    "bag_of_words = {}\n",
    "\n",
    "regex = re.compile( '[^a-zA-Z]' )\n",
    "\n",
    "for sentence in train[ \"title\" ]:\n",
    "    \n",
    "    if sentence is not np.nan:\n",
    "    \n",
    "        sentence = regex.sub( \" \", sentence )\n",
    "    \n",
    "        sentence = sentence.lower()\n",
    "    \n",
    "        list_of_items = sentence.split( \" \" )\n",
    "    \n",
    "        for item in list_of_items:\n",
    "            \n",
    "            if len( item ) > 1:\n",
    "        \n",
    "                if item not in bag_of_words:\n",
    "            \n",
    "                    bag_of_words[ item ] = 1\n",
    "            \n",
    "                else:\n",
    "            \n",
    "                    bag_of_words[ item ] = bag_of_words[ item ] + 1\n",
    "            \n",
    "for sentence in train[ \"description\" ]:\n",
    "    \n",
    "    if sentence is not np.nan:\n",
    "    \n",
    "        sentence = regex.sub( \" \", sentence )\n",
    "    \n",
    "        sentence = sentence.lower()\n",
    "    \n",
    "        list_of_items = sentence.split( \" \" )\n",
    "    \n",
    "        for item in list_of_items:\n",
    "        \n",
    "            if len( item ) > 1:\n",
    "        \n",
    "                if item not in bag_of_words:\n",
    "            \n",
    "                    bag_of_words[ item ] = 1\n",
    "            \n",
    "                else:\n",
    "            \n",
    "                    bag_of_words[ item ] = bag_of_words[ item ] + 1"
   ]
  },
  {
   "cell_type": "code",
   "execution_count": 45,
   "metadata": {},
   "outputs": [],
   "source": [
    "most_common_words = [ x for x, y in sorted( bag_of_words.items(), key = lambda x: x[ 1 ], reverse = True ) ][ 0 : 1000 ]"
   ]
  },
  {
   "cell_type": "markdown",
   "metadata": {},
   "source": [
    "We now do the same with the most common words as we did with the __property_types__."
   ]
  },
  {
   "cell_type": "code",
   "execution_count": 46,
   "metadata": {},
   "outputs": [],
   "source": [
    "i = 0\n",
    "\n",
    "bag_of_words = {}\n",
    "\n",
    "for word in most_common_words:\n",
    "    \n",
    "    bag_of_words[ word ] = \"word_\" + str( i )\n",
    "    \n",
    "    i = i + 1"
   ]
  },
  {
   "cell_type": "code",
   "execution_count": 47,
   "metadata": {},
   "outputs": [],
   "source": [
    "for i in range( 1000 ):\n",
    "    \n",
    "    mystr = \"word_\" + str( i )\n",
    "    \n",
    "    train[ mystr ] = np.zeros( shape = [ train_size ], dtype = np.bool )\n",
    "    \n",
    "    test[ mystr ] = np.zeros( shape = [ test_size ], dtype = np.bool )"
   ]
  },
  {
   "cell_type": "code",
   "execution_count": 48,
   "metadata": {},
   "outputs": [],
   "source": [
    "for i in range( 1 ):\n",
    "    \n",
    "    sentence1 = train.iloc[ i ][ \"title\" ]\n",
    "    \n",
    "    sentence2 = train.iloc[ i ][ \"description\" ]\n",
    "    \n",
    "    if sentence1 is not np.nan:\n",
    "        \n",
    "        if sentence2 is not np.nan:\n",
    "            \n",
    "            sentence = sentence1 + \" \" + sentence2\n",
    "            \n",
    "        else:\n",
    "            \n",
    "            sentence = sentence1\n",
    "            \n",
    "    else:\n",
    "        \n",
    "        if sentence2 is not np.nan:\n",
    "            \n",
    "            sentence = sentence2\n",
    "            \n",
    "        else:\n",
    "            \n",
    "            sentence = \"\"       \n",
    "    \n",
    "    sentence = regex.sub( \" \", sentence )\n",
    "    \n",
    "    sentence = sentence.lower()\n",
    "    \n",
    "    list_of_items = sentence.split( \" \" )\n",
    "    \n",
    "    for item in list_of_items:\n",
    "            \n",
    "        if item in bag_of_words:\n",
    "                \n",
    "            train.iloc[ i, train.columns.get_loc( bag_of_words[ item ] ) ] = True\n",
    "            \n",
    "for i in range( 1 ):\n",
    "    \n",
    "    sentence1 = test.iloc[ i ][ \"title\" ]\n",
    "    \n",
    "    sentence2 = test.iloc[ i ][ \"description\" ]\n",
    "    \n",
    "    if sentence1 is not np.nan:\n",
    "        \n",
    "        if sentence2 is not np.nan:\n",
    "            \n",
    "            sentence = sentence1 + \" \" + sentence2\n",
    "            \n",
    "        else:\n",
    "            \n",
    "            sentence = sentence1\n",
    "            \n",
    "    else:\n",
    "        \n",
    "        if sentence2 is not np.nan:\n",
    "            \n",
    "            sentence = sentence2\n",
    "            \n",
    "        else:\n",
    "            \n",
    "            sentence = \"\"       \n",
    "    \n",
    "    sentence = regex.sub( \" \", sentence )\n",
    "    \n",
    "    sentence = sentence.lower()\n",
    "    \n",
    "    list_of_items = sentence.split( \" \" )\n",
    "    \n",
    "    for item in list_of_items:\n",
    "            \n",
    "        if item in bag_of_words:\n",
    "                \n",
    "            test.iloc[ i, test.columns.get_loc( bag_of_words[ item ] ) ] = True\n",
    "            \n",
    "train = train.drop( [ \"description\" ], axis = 1 )\n",
    "\n",
    "train = train.drop( [ \"title\" ], axis = 1 )\n",
    "\n",
    "test = test.drop( [ \"description\" ], axis = 1 )\n",
    "\n",
    "test = test.drop( [ \"title\" ], axis = 1 )"
   ]
  },
  {
   "cell_type": "markdown",
   "metadata": {},
   "source": [
    "Now we extract the __price__ data and transform these to numpy arrays."
   ]
  },
  {
   "cell_type": "code",
   "execution_count": 49,
   "metadata": {},
   "outputs": [],
   "source": [
    "train_y = train[ \"price\" ].to_numpy()\n",
    "\n",
    "test_y = test[ \"price\" ].to_numpy()"
   ]
  },
  {
   "cell_type": "code",
   "execution_count": 50,
   "metadata": {},
   "outputs": [],
   "source": [
    "train = train.drop( [ \"price\" ], axis = 1 )\n",
    "\n",
    "test = test.drop( [ \"price\" ], axis = 1 )"
   ]
  },
  {
   "cell_type": "code",
   "execution_count": 51,
   "metadata": {},
   "outputs": [
    {
     "data": {
      "text/html": [
       "<div>\n",
       "<style scoped>\n",
       "    .dataframe tbody tr th:only-of-type {\n",
       "        vertical-align: middle;\n",
       "    }\n",
       "\n",
       "    .dataframe tbody tr th {\n",
       "        vertical-align: top;\n",
       "    }\n",
       "\n",
       "    .dataframe thead th {\n",
       "        text-align: right;\n",
       "    }\n",
       "</style>\n",
       "<table border=\"1\" class=\"dataframe\">\n",
       "  <thead>\n",
       "    <tr style=\"text-align: right;\">\n",
       "      <th></th>\n",
       "      <th>lat</th>\n",
       "      <th>lon</th>\n",
       "      <th>rooms</th>\n",
       "      <th>bedrooms</th>\n",
       "      <th>bathrooms</th>\n",
       "      <th>surface_total</th>\n",
       "      <th>surface_covered</th>\n",
       "      <th>Casa</th>\n",
       "      <th>Casa de campo</th>\n",
       "      <th>Cochera</th>\n",
       "      <th>...</th>\n",
       "      <th>word_990</th>\n",
       "      <th>word_991</th>\n",
       "      <th>word_992</th>\n",
       "      <th>word_993</th>\n",
       "      <th>word_994</th>\n",
       "      <th>word_995</th>\n",
       "      <th>word_996</th>\n",
       "      <th>word_997</th>\n",
       "      <th>word_998</th>\n",
       "      <th>word_999</th>\n",
       "    </tr>\n",
       "  </thead>\n",
       "  <tbody>\n",
       "    <tr>\n",
       "      <th>578191</th>\n",
       "      <td>-38.010888</td>\n",
       "      <td>-57.544739</td>\n",
       "      <td>3.198861</td>\n",
       "      <td>2.262446</td>\n",
       "      <td>1.000000</td>\n",
       "      <td>298.838959</td>\n",
       "      <td>167.251375</td>\n",
       "      <td>False</td>\n",
       "      <td>False</td>\n",
       "      <td>False</td>\n",
       "      <td>...</td>\n",
       "      <td>False</td>\n",
       "      <td>False</td>\n",
       "      <td>False</td>\n",
       "      <td>False</td>\n",
       "      <td>False</td>\n",
       "      <td>False</td>\n",
       "      <td>False</td>\n",
       "      <td>False</td>\n",
       "      <td>False</td>\n",
       "      <td>False</td>\n",
       "    </tr>\n",
       "    <tr>\n",
       "      <th>479135</th>\n",
       "      <td>-34.627721</td>\n",
       "      <td>-58.408429</td>\n",
       "      <td>3.198861</td>\n",
       "      <td>2.262446</td>\n",
       "      <td>1.716035</td>\n",
       "      <td>333.000000</td>\n",
       "      <td>167.251375</td>\n",
       "      <td>False</td>\n",
       "      <td>False</td>\n",
       "      <td>False</td>\n",
       "      <td>...</td>\n",
       "      <td>False</td>\n",
       "      <td>False</td>\n",
       "      <td>False</td>\n",
       "      <td>False</td>\n",
       "      <td>False</td>\n",
       "      <td>False</td>\n",
       "      <td>False</td>\n",
       "      <td>False</td>\n",
       "      <td>False</td>\n",
       "      <td>False</td>\n",
       "    </tr>\n",
       "    <tr>\n",
       "      <th>539598</th>\n",
       "      <td>-38.008514</td>\n",
       "      <td>-57.540179</td>\n",
       "      <td>3.198861</td>\n",
       "      <td>2.262446</td>\n",
       "      <td>1.000000</td>\n",
       "      <td>298.838959</td>\n",
       "      <td>167.251375</td>\n",
       "      <td>False</td>\n",
       "      <td>False</td>\n",
       "      <td>False</td>\n",
       "      <td>...</td>\n",
       "      <td>False</td>\n",
       "      <td>False</td>\n",
       "      <td>False</td>\n",
       "      <td>False</td>\n",
       "      <td>False</td>\n",
       "      <td>False</td>\n",
       "      <td>False</td>\n",
       "      <td>False</td>\n",
       "      <td>False</td>\n",
       "      <td>False</td>\n",
       "    </tr>\n",
       "    <tr>\n",
       "      <th>170980</th>\n",
       "      <td>-34.685002</td>\n",
       "      <td>-58.561532</td>\n",
       "      <td>3.198861</td>\n",
       "      <td>2.262446</td>\n",
       "      <td>1.716035</td>\n",
       "      <td>1102.000000</td>\n",
       "      <td>167.251375</td>\n",
       "      <td>False</td>\n",
       "      <td>False</td>\n",
       "      <td>False</td>\n",
       "      <td>...</td>\n",
       "      <td>False</td>\n",
       "      <td>False</td>\n",
       "      <td>False</td>\n",
       "      <td>False</td>\n",
       "      <td>False</td>\n",
       "      <td>False</td>\n",
       "      <td>False</td>\n",
       "      <td>False</td>\n",
       "      <td>False</td>\n",
       "      <td>False</td>\n",
       "    </tr>\n",
       "    <tr>\n",
       "      <th>514679</th>\n",
       "      <td>-38.000979</td>\n",
       "      <td>-57.548079</td>\n",
       "      <td>3.198861</td>\n",
       "      <td>2.262446</td>\n",
       "      <td>1.000000</td>\n",
       "      <td>298.838959</td>\n",
       "      <td>167.251375</td>\n",
       "      <td>False</td>\n",
       "      <td>False</td>\n",
       "      <td>False</td>\n",
       "      <td>...</td>\n",
       "      <td>False</td>\n",
       "      <td>False</td>\n",
       "      <td>False</td>\n",
       "      <td>False</td>\n",
       "      <td>False</td>\n",
       "      <td>False</td>\n",
       "      <td>False</td>\n",
       "      <td>False</td>\n",
       "      <td>False</td>\n",
       "      <td>False</td>\n",
       "    </tr>\n",
       "  </tbody>\n",
       "</table>\n",
       "<p>5 rows × 1052 columns</p>\n",
       "</div>"
      ],
      "text/plain": [
       "              lat        lon     rooms  bedrooms  bathrooms  surface_total  \\\n",
       "578191 -38.010888 -57.544739  3.198861  2.262446   1.000000     298.838959   \n",
       "479135 -34.627721 -58.408429  3.198861  2.262446   1.716035     333.000000   \n",
       "539598 -38.008514 -57.540179  3.198861  2.262446   1.000000     298.838959   \n",
       "170980 -34.685002 -58.561532  3.198861  2.262446   1.716035    1102.000000   \n",
       "514679 -38.000979 -57.548079  3.198861  2.262446   1.000000     298.838959   \n",
       "\n",
       "        surface_covered   Casa  Casa de campo  Cochera  ...  word_990  \\\n",
       "578191       167.251375  False          False    False  ...     False   \n",
       "479135       167.251375  False          False    False  ...     False   \n",
       "539598       167.251375  False          False    False  ...     False   \n",
       "170980       167.251375  False          False    False  ...     False   \n",
       "514679       167.251375  False          False    False  ...     False   \n",
       "\n",
       "        word_991  word_992  word_993  word_994  word_995  word_996  word_997  \\\n",
       "578191     False     False     False     False     False     False     False   \n",
       "479135     False     False     False     False     False     False     False   \n",
       "539598     False     False     False     False     False     False     False   \n",
       "170980     False     False     False     False     False     False     False   \n",
       "514679     False     False     False     False     False     False     False   \n",
       "\n",
       "        word_998  word_999  \n",
       "578191     False     False  \n",
       "479135     False     False  \n",
       "539598     False     False  \n",
       "170980     False     False  \n",
       "514679     False     False  \n",
       "\n",
       "[5 rows x 1052 columns]"
      ]
     },
     "execution_count": 51,
     "metadata": {},
     "output_type": "execute_result"
    }
   ],
   "source": [
    "train.head()"
   ]
  },
  {
   "cell_type": "code",
   "execution_count": 52,
   "metadata": {},
   "outputs": [],
   "source": [
    "train_x = train.to_numpy()\n",
    "\n",
    "test_x = test.to_numpy()"
   ]
  },
  {
   "cell_type": "markdown",
   "metadata": {},
   "source": [
    "In order to evaluate the godness of fit, we use the $R^{2}$-value."
   ]
  },
  {
   "cell_type": "code",
   "execution_count": 53,
   "metadata": {},
   "outputs": [],
   "source": [
    "def rsquared( true, pred ):\n",
    "    \n",
    "    nominator = np.sum( np.square( true - pred ) )\n",
    "    \n",
    "    denominator = np.sum( np.square( true - np.mean( true ) ) )\n",
    "    \n",
    "    return 1 - nominator / denominator"
   ]
  },
  {
   "cell_type": "markdown",
   "metadata": {},
   "source": [
    "We train a simple random forest."
   ]
  },
  {
   "cell_type": "code",
   "execution_count": 54,
   "metadata": {},
   "outputs": [
    {
     "name": "stdout",
     "output_type": "stream",
     "text": [
      "0.20.3\n"
     ]
    }
   ],
   "source": [
    "import sklearn\n",
    "from sklearn.ensemble import RandomForestRegressor\n",
    "\n",
    "print( sklearn.__version__ )"
   ]
  },
  {
   "cell_type": "code",
   "execution_count": 55,
   "metadata": {},
   "outputs": [
    {
     "name": "stderr",
     "output_type": "stream",
     "text": [
      "C:\\Users\\rhopi\\Anaconda3\\lib\\site-packages\\sklearn\\ensemble\\forest.py:246: FutureWarning: The default value of n_estimators will change from 10 in version 0.20 to 100 in 0.22.\n",
      "  \"10 in version 0.20 to 100 in 0.22.\", FutureWarning)\n"
     ]
    }
   ],
   "source": [
    "forest = RandomForestRegressor()\n",
    "\n",
    "myforest = forest.fit( train_x, train_y )"
   ]
  },
  {
   "cell_type": "code",
   "execution_count": 56,
   "metadata": {},
   "outputs": [
    {
     "name": "stdout",
     "output_type": "stream",
     "text": [
      "0.8003076146717546\n"
     ]
    }
   ],
   "source": [
    "pred_train = myforest.predict( train_x )\n",
    "\n",
    "print( rsquared( train_y, pred_train ) )"
   ]
  },
  {
   "cell_type": "code",
   "execution_count": 57,
   "metadata": {},
   "outputs": [
    {
     "name": "stdout",
     "output_type": "stream",
     "text": [
      "3.0.3\n"
     ]
    }
   ],
   "source": [
    "import matplotlib\n",
    "import matplotlib.pyplot as plt\n",
    "\n",
    "print( matplotlib.__version__ )"
   ]
  },
  {
   "cell_type": "code",
   "execution_count": 58,
   "metadata": {},
   "outputs": [
    {
     "data": {
      "text/plain": [
       "Text(0.5, 1.0, 'Training Data')"
      ]
     },
     "execution_count": 58,
     "metadata": {},
     "output_type": "execute_result"
    },
    {
     "data": {
      "image/png": "[encoded data removed]",
      "text/plain": [
       "<Figure size 432x288 with 1 Axes>"
      ]
     },
     "metadata": {
      "needs_background": "light"
     },
     "output_type": "display_data"
    }
   ],
   "source": [
    "plt.plot( train_y, pred_train, \"bo\" )\n",
    "\n",
    "plt.xlabel( \"True Prices ($)\" )\n",
    "\n",
    "plt.ylabel( \"Predicted Prices ($)\" )\n",
    "\n",
    "plt.title( \"Training Data\" )"
   ]
  },
  {
   "cell_type": "code",
   "execution_count": 59,
   "metadata": {},
   "outputs": [
    {
     "data": {
      "text/plain": [
       "Text(0.5, 1.0, 'Test Data')"
      ]
     },
     "execution_count": 59,
     "metadata": {},
     "output_type": "execute_result"
    },
    {
     "data": {
      "image/png": "[encoded data removed]",
      "text/plain": [
       "<Figure size 432x288 with 1 Axes>"
      ]
     },
     "metadata": {
      "needs_background": "light"
     },
     "output_type": "display_data"
    }
   ],
   "source": [
    "pred_test = myforest.predict( test_x )\n",
    "\n",
    "plt.plot( test_y, pred_test, \"bo\" )\n",
    "\n",
    "plt.xlabel( \"True Prices ($)\" )\n",
    "\n",
    "plt.ylabel( \"Predicted Prices ($)\" )\n",
    "\n",
    "plt.title( \"Test Data\" )"
   ]
  },
  {
   "cell_type": "code",
   "execution_count": 60,
   "metadata": {},
   "outputs": [
    {
     "name": "stdout",
     "output_type": "stream",
     "text": [
      "0.29696359513446635\n"
     ]
    }
   ],
   "source": [
    "print( rsquared( test_y, pred_test ) )"
   ]
  },
  {
   "cell_type": "markdown",
   "metadata": {},
   "source": [
    "When we compare the performance on the test and the training data, we notice a huge drop. This means, that the model learnt to predict the training data pretty well, but cannot really generalize.<br>\n",
    "We try to learn a model for Buenos Aires ($-34.603722, -58.381592$)."
   ]
  },
  {
   "cell_type": "code",
   "execution_count": 61,
   "metadata": {},
   "outputs": [],
   "source": [
    "min_lat = -35\n",
    "\n",
    "max_lat = -34\n",
    "\n",
    "min_lon = -59\n",
    "\n",
    "max_lon = -58\n",
    "\n",
    "indices = []\n",
    "\n",
    "for i in range( train_size ):\n",
    "    \n",
    "    if train_x[ i, 0 ] > min_lat:\n",
    "        \n",
    "        if train_x[ i, 0 ] < max_lat:\n",
    "            \n",
    "            if train_x[ i, 1 ] > min_lon:\n",
    "                \n",
    "                if train_x[ i, 1 ] < max_lon:\n",
    "                    \n",
    "                    indices.append( i )\n",
    "                    \n",
    "train_buenos_x = train_x[ indices, : ]\n",
    "\n",
    "train_buenos_y = train_y[ indices ]\n",
    "\n",
    "indices = []\n",
    "\n",
    "for i in range( test_size ):\n",
    "    \n",
    "    if test_x[ i, 0 ] > min_lat:\n",
    "        \n",
    "        if test_x[ i, 0 ] < max_lat:\n",
    "            \n",
    "            if test_x[ i, 1 ] > min_lon:\n",
    "                \n",
    "                if test_x[ i, 1 ] < max_lon:\n",
    "                    \n",
    "                    indices.append( i )\n",
    "                    \n",
    "test_buenos_x = test_x[ indices, : ]\n",
    "\n",
    "test_buenos_y = test_y[ indices ]"
   ]
  },
  {
   "cell_type": "code",
   "execution_count": 62,
   "metadata": {},
   "outputs": [],
   "source": [
    "myforest_buenos = forest.fit( train_buenos_x, train_buenos_y )"
   ]
  },
  {
   "cell_type": "code",
   "execution_count": 63,
   "metadata": {},
   "outputs": [
    {
     "name": "stdout",
     "output_type": "stream",
     "text": [
      "0.9236505293136461\n"
     ]
    }
   ],
   "source": [
    "pred_train_buenos = myforest_buenos.predict( train_buenos_x )\n",
    "\n",
    "print( rsquared( train_buenos_y, pred_train_buenos ) )"
   ]
  },
  {
   "cell_type": "code",
   "execution_count": 64,
   "metadata": {},
   "outputs": [
    {
     "data": {
      "text/plain": [
       "Text(0.5, 1.0, 'Training Data Buenos Aires')"
      ]
     },
     "execution_count": 64,
     "metadata": {},
     "output_type": "execute_result"
    },
    {
     "data": {
      "image/png": "[encoded data removed]",
      "text/plain": [
       "<Figure size 432x288 with 1 Axes>"
      ]
     },
     "metadata": {
      "needs_background": "light"
     },
     "output_type": "display_data"
    }
   ],
   "source": [
    "plt.plot( train_buenos_y, pred_train_buenos, \"bo\" )\n",
    "\n",
    "plt.xlabel( \"True Prices Buenos Aires ($)\" )\n",
    "\n",
    "plt.ylabel( \"Predicted Prices Buenos Aires ($)\" )\n",
    "\n",
    "plt.title( \"Training Data Buenos Aires\" )"
   ]
  },
  {
   "cell_type": "code",
   "execution_count": 65,
   "metadata": {},
   "outputs": [
    {
     "data": {
      "text/plain": [
       "Text(0.5, 1.0, 'Test Data Buenos Aires')"
      ]
     },
     "execution_count": 65,
     "metadata": {},
     "output_type": "execute_result"
    },
    {
     "data": {
      "image/png": "[encoded data removed]",
      "text/plain": [
       "<Figure size 432x288 with 1 Axes>"
      ]
     },
     "metadata": {
      "needs_background": "light"
     },
     "output_type": "display_data"
    }
   ],
   "source": [
    "pred_test_buenos = myforest_buenos.predict( test_buenos_x )\n",
    "\n",
    "plt.plot( test_buenos_y, pred_test_buenos, \"bo\" )\n",
    "\n",
    "plt.xlabel( \"True Prices Buenos Aires($)\" )\n",
    "\n",
    "plt.ylabel( \"Predicted Prices Buenos Aires ($)\" )\n",
    "\n",
    "plt.title( \"Test Data Buenos Aires\" )"
   ]
  },
  {
   "cell_type": "code",
   "execution_count": 66,
   "metadata": {},
   "outputs": [
    {
     "name": "stdout",
     "output_type": "stream",
     "text": [
      "0.4739209701945487\n"
     ]
    }
   ],
   "source": [
    "print( rsquared( test_buenos_y, pred_test_buenos ) )"
   ]
  },
  {
   "cell_type": "markdown",
   "metadata": {},
   "source": [
    "By restricting to the greater Buenos Aires area, we improved the performance on the training set significantly, and also the performance on the training set improved. However, the model is still not very good at generalization, which implies, that we need more data of that area."
   ]
  }
 ],
 "metadata": {
  "kernelspec": {
   "display_name": "Python 3",
   "language": "python",
   "name": "python3"
  },
  "language_info": {
   "codemirror_mode": {
    "name": "ipython",
    "version": 3
   },
   "file_extension": ".py",
   "mimetype": "text/x-python",
   "name": "python",
   "nbconvert_exporter": "python",
   "pygments_lexer": "ipython3",
   "version": "3.7.3"
  }
 },
 "nbformat": 4,
 "nbformat_minor": 2
}
